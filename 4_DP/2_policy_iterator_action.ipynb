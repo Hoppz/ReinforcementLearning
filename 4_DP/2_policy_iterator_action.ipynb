{
 "cells": [
  {
   "cell_type": "code",
   "id": "initial_id",
   "metadata": {
    "collapsed": true,
    "ExecuteTime": {
     "end_time": "2024-06-01T02:00:39.023089Z",
     "start_time": "2024-06-01T02:00:38.770796Z"
    }
   },
   "source": [
    "import numpy as np\n",
    "import sys\n",
    "if \"../\" not in sys.path:\n",
    "    sys.path.append(\"../\")\n",
    "from lib.envs.GridEnv import Env\n",
    "from lib.utils.draw import show_grid,show_policy\n"
   ],
   "execution_count": 1,
   "outputs": []
  },
  {
   "metadata": {
    "ExecuteTime": {
     "end_time": "2024-06-01T02:00:39.038774Z",
     "start_time": "2024-06-01T02:00:39.023089Z"
    }
   },
   "cell_type": "code",
   "source": [
    "def policy_evaluation(policy,env,gamma=1.0,theta= 0.001):\n",
    "    \"\"\"\n",
    "    arg:\n",
    "        policy:  策略函数\n",
    "        env:     环境\n",
    "        gamma:   折扣回报率\n",
    "        theta:   确定 v_k 与 v_k+1 的收敛\n",
    "    \"\"\"\n",
    "    Q = np.zeros( (env.observation_size, env.action_size) )\n",
    "    while True:\n",
    "        delta = 0\n",
    "        \n",
    "        for s in range(env.observation_size):\n",
    "            for a in range(env.action_size):\n",
    "                q = 0\n",
    "                for next_state, reward, done in env.P[s][a]:\n",
    "                    teq = 0\n",
    "                    for action,action_prob in enumerate(policy[next_state]):\n",
    "                        teq += action_prob * Q[next_state,action]\n",
    "                    q = reward + gamma * teq\n",
    "                delta = max(delta,abs(q-Q[s,a]))\n",
    "                Q[s,a] = q\n",
    "        # stop \n",
    "        # print(delta)\n",
    "        if delta < theta:\n",
    "            break\n",
    "    return np.array(Q)\n"
   ],
   "id": "d89c42f2729d76e5",
   "execution_count": 2,
   "outputs": []
  },
  {
   "metadata": {
    "ExecuteTime": {
     "end_time": "2024-06-01T02:00:39.054857Z",
     "start_time": "2024-06-01T02:00:39.038774Z"
    }
   },
   "cell_type": "code",
   "source": [
    "def policy_iterator_action(env,gamma=1.0,theta= 0.00001):\n",
    "    \n",
    "    # 随机策略\n",
    "    policy = np.ones( (env.observation_size,env.action_size) ) / env.action_size\n",
    "    V = np.zeros(env.observation_size )\n",
    "    while True:\n",
    "        \n",
    "        # 策略是否收敛了 （上一轮的迭代和这一轮的没变化）\n",
    "        policy_stable  = True\n",
    "        Q = policy_evaluation(policy,env,gamma,theta)\n",
    "        \n",
    "        for s in range(env.observation_size):\n",
    "            chosen_action = np.argmax(policy[s])\n",
    "            \n",
    "            # action value\n",
    "            action_value = Q[s]\n",
    "            best_action = np.argmax(action_value)    \n",
    "            V[s] = Q[s][best_action]\n",
    "            if chosen_action != best_action:\n",
    "                policy_stable = False\n",
    "            \n",
    "            # 更新策略，独热编码\n",
    "            policy[s] = np.eye(env.action_size)[best_action]\n",
    "        \n",
    "        if policy_stable:\n",
    "            return policy, V\n",
    "    "
   ],
   "id": "f36e1486424351c6",
   "execution_count": 3,
   "outputs": []
  },
  {
   "metadata": {
    "ExecuteTime": {
     "end_time": "2024-06-01T02:00:39.506528Z",
     "start_time": "2024-06-01T02:00:39.054857Z"
    }
   },
   "cell_type": "code",
   "source": [
    "env = Env((5,5),p=0.5,seed=5,punish=-10)\n",
    "policy, V = policy_iterator_action(env,gamma=0.9)\n",
    "print(\"原始图像\")\n",
    "show_grid(env,env.grid)\n",
    "print(\"state value function\")\n",
    "show_grid(env,V)\n",
    "print(\"policy\")\n",
    "show_policy(env,policy)"
   ],
   "id": "3c9d68b0680ca656",
   "execution_count": 4,
   "outputs": []
  },
  {
   "metadata": {
    "ExecuteTime": {
     "end_time": "2024-06-01T02:00:39.522347Z",
     "start_time": "2024-06-01T02:00:39.506528Z"
    }
   },
   "cell_type": "code",
   "source": "",
   "id": "5788fcf785b121bc",
   "execution_count": 4,
   "outputs": []
  },
  {
   "metadata": {
    "ExecuteTime": {
     "end_time": "2024-06-01T02:00:39.538033Z",
     "start_time": "2024-06-01T02:00:39.522347Z"
    }
   },
   "cell_type": "code",
   "source": "",
   "id": "7eac6f2c88f27867",
   "execution_count": 4,
   "outputs": []
  },
  {
   "metadata": {
    "ExecuteTime": {
     "end_time": "2024-06-01T02:00:39.554206Z",
     "start_time": "2024-06-01T02:00:39.538033Z"
    }
   },
   "cell_type": "code",
   "source": "",
   "id": "cbb73b47e8b125e5",
   "execution_count": 4,
   "outputs": []
  },
  {
   "metadata": {
    "ExecuteTime": {
     "end_time": "2024-06-01T02:00:39.569844Z",
     "start_time": "2024-06-01T02:00:39.554778Z"
    }
   },
   "cell_type": "code",
   "source": "",
   "id": "35d3bf0be9f9f791",
   "execution_count": 4,
   "outputs": []
  }
 ],
 "metadata": {
  "kernelspec": {
   "display_name": "Python 3",
   "language": "python",
   "name": "python3"
  },
  "language_info": {
   "codemirror_mode": {
    "name": "ipython",
    "version": 2
   },
   "file_extension": ".py",
   "mimetype": "text/x-python",
   "name": "python",
   "nbconvert_exporter": "python",
   "pygments_lexer": "ipython2",
   "version": "2.7.6"
  }
 },
 "nbformat": 4,
 "nbformat_minor": 5
}
