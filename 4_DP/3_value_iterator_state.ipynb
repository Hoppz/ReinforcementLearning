{
 "cells": [
  {
   "cell_type": "code",
   "id": "initial_id",
   "metadata": {
    "collapsed": true,
    "jupyter": {
     "is_executing": true
    }
   },
   "source": [
    "import numpy as np\n",
    "import sys\n",
    "if \"../\" not in sys.path:\n",
    "    sys.path.append(\"../\")\n",
    "from lib.envs.GridEnv import Env\n",
    "from lib.utils.draw import show_grid,show_policy\n"
   ],
   "execution_count": null,
   "outputs": []
  },
  {
   "metadata": {},
   "cell_type": "markdown",
   "source": "![img](../img/value_iterator.jpg)\n",
   "id": "a4a6d78c44e45b13"
  },
  {
   "metadata": {},
   "cell_type": "code",
   "source": [
    "def get_action_value(env,state,V,gamma=1.0):\n",
    "    q_val = np.zeros(env.action_size)\n",
    "    for a in range(env.action_size):\n",
    "        for next_state, reward, done in env.P[state][a]:\n",
    "            q_val[a] = reward + gamma * V[next_state]\n",
    "    \n",
    "    return q_val"
   ],
   "id": "7a6d424e0efd859c",
   "execution_count": null,
   "outputs": []
  },
  {
   "metadata": {},
   "cell_type": "code",
   "source": [
    "def value_iterator_state(env,gamma=0.9, theta = 0.00001):\n",
    "    \n",
    "    V = np.zeros(env.observation_size)\n",
    "    \n",
    "    while True:\n",
    "        delta = 0\n",
    "        \n",
    "        for s in range(env.observation_size):\n",
    "            \n",
    "            action_value = get_action_value(env,s,V,gamma)\n",
    "            best_action_value = np.max(action_value)\n",
    "            delta = max(delta, abs(best_action_value - V[s]) )\n",
    "            V[s] = best_action_value\n",
    "\n",
    "        if delta < theta:\n",
    "            break\n",
    "    # policy\n",
    "    policy = np.zeros((env.observation_size,env.action_size))\n",
    "    \n",
    "    for s in range(env.observation_size):\n",
    "        action_val = get_action_value(env,s,V)\n",
    "        best_action = np.argmax(action_val)\n",
    "        policy[s][best_action] = 1\n",
    "        \n",
    "    return policy, V\n",
    "    "
   ],
   "id": "6c5601a3a8dbdd72",
   "execution_count": null,
   "outputs": []
  },
  {
   "metadata": {},
   "cell_type": "code",
   "source": [
    "env = Env((7,7),p=0.7,seed=1,punish=-10)\n",
    "policy, V = value_iterator_state(env,gamma=0.9)\n",
    "print(\"原始图像\")\n",
    "show_grid(env,env.grid)\n",
    "print(\"state value function\")\n",
    "show_grid(env,V)\n",
    "print(\"policy\")\n",
    "show_policy(env,policy)"
   ],
   "id": "e634eb33437a424e",
   "execution_count": null,
   "outputs": []
  },
  {
   "metadata": {},
   "cell_type": "code",
   "source": "",
   "id": "7689e47d4995fc31",
   "execution_count": null,
   "outputs": []
  },
  {
   "metadata": {},
   "cell_type": "code",
   "source": "",
   "id": "d3db299a2923e293",
   "execution_count": null,
   "outputs": []
  }
 ],
 "metadata": {
  "kernelspec": {
   "display_name": "Python 3",
   "language": "python",
   "name": "python3"
  },
  "language_info": {
   "codemirror_mode": {
    "name": "ipython",
    "version": 2
   },
   "file_extension": ".py",
   "mimetype": "text/x-python",
   "name": "python",
   "nbconvert_exporter": "python",
   "pygments_lexer": "ipython2",
   "version": "2.7.6"
  }
 },
 "nbformat": 4,
 "nbformat_minor": 5
}
