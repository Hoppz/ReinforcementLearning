{
 "cells": [
  {
   "cell_type": "code",
   "id": "initial_id",
   "metadata": {
    "collapsed": true,
    "ExecuteTime": {
     "end_time": "2024-05-31T08:52:05.440916Z",
     "start_time": "2024-05-31T08:52:05.197262Z"
    }
   },
   "source": [
    "import numpy as np\n",
    "import sys\n",
    "if \"../\" not in sys.path:\n",
    "    sys.path.append(\"../\")\n",
    "from lib.envs.GridEnv import Env\n",
    "from lib.utils.draw import show_grid,show_policy\n"
   ],
   "execution_count": 1,
   "outputs": []
  },
  {
   "metadata": {
    "ExecuteTime": {
     "end_time": "2024-05-31T08:52:05.456931Z",
     "start_time": "2024-05-31T08:52:05.441434Z"
    }
   },
   "cell_type": "code",
   "source": [
    "def policy_evaluation(policy,env,gamma=1.0,theta= 0.001):\n",
    "    \"\"\"\n",
    "    arg:\n",
    "        policy:  策略函数\n",
    "        env:     环境\n",
    "        gamma:   折扣回报率\n",
    "        theta:   确定 v_k 与 v_k+1 的收敛\n",
    "    \"\"\"\n",
    "    V = np.zeros(env.observation_size)\n",
    "    while True:\n",
    "        delta = 0\n",
    "        \n",
    "        for s in range(env.observation_size):\n",
    "            v = 0 \n",
    "            for a,action_prob in enumerate(policy[s]):\n",
    "                for next_state, reward, done in env.P[s][a]:\n",
    "                    v += action_prob * ( reward + gamma * V[next_state] )\n",
    "            delta = max(delta,abs(v - V[s]))\n",
    "            # print(s,v)\n",
    "            V[s] = v\n",
    "        # stop \n",
    "        # print(delta)\n",
    "        if delta < theta:\n",
    "            break\n",
    "    return np.array(V)\n"
   ],
   "id": "c6c7fbefa955b285",
   "execution_count": 2,
   "outputs": []
  },
  {
   "cell_type": "code",
   "id": "a3f929455a66fc84",
   "metadata": {
    "ExecuteTime": {
     "end_time": "2024-05-31T08:52:05.471305Z",
     "start_time": "2024-05-31T08:52:05.458037Z"
    }
   },
   "source": [
    "def get_action_value(env,state,V,gamma=1.0):\n",
    "    q_val = np.zeros(env.action_size)\n",
    "    for a in range(env.action_size):\n",
    "        for next_state, reward, done in env.P[state][a]:\n",
    "            q_val[a] = reward + gamma * V[next_state]\n",
    "    \n",
    "    return q_val"
   ],
   "execution_count": 3,
   "outputs": []
  },
  {
   "cell_type": "code",
   "id": "85fb75c2165f54b8",
   "metadata": {
    "ExecuteTime": {
     "end_time": "2024-05-31T08:52:05.487305Z",
     "start_time": "2024-05-31T08:52:05.472305Z"
    }
   },
   "source": [
    "def policy_iterator_state(env,gamma=1.0,theta= 0.00001):\n",
    "    \n",
    "    # 随机策略\n",
    "    policy = np.ones( (env.observation_size,env.action_size) ) / env.action_size\n",
    "    \n",
    "    while True:\n",
    "        \n",
    "        # 策略是否收敛了 （上一轮的迭代和这一轮的没变化）\n",
    "        policy_stable  = True\n",
    "        V = policy_evaluation(policy,env,gamma,theta)\n",
    "        \n",
    "        for s in range(env.observation_size):\n",
    "            chosen_action = np.argmax(policy[s])\n",
    "            \n",
    "            # 计算 action value ,最优贝尔曼公式\n",
    "            action_value = get_action_value(env,s,V,gamma)\n",
    "            best_action = np.argmax(action_value)    \n",
    "            if chosen_action != best_action:\n",
    "                policy_stable = False\n",
    "            \n",
    "            # 更新策略，独热编码\n",
    "            policy[s] = np.eye(env.action_size)[best_action]\n",
    "        \n",
    "        if policy_stable:\n",
    "            return policy, V\n",
    "    "
   ],
   "execution_count": 4,
   "outputs": []
  },
  {
   "cell_type": "code",
   "id": "cc1a0125d457cf39",
   "metadata": {
    "ExecuteTime": {
     "end_time": "2024-05-31T08:52:05.861473Z",
     "start_time": "2024-05-31T08:52:05.488960Z"
    }
   },
   "source": [
    "env = Env((5,5),p=0.5,seed=5,punish=-10)\n",
    "policy, V = policy_iterator_state(env,gamma=0.9)\n",
    "print(\"原始图像\")\n",
    "show_grid(env,env.grid)\n",
    "print(\"state value function\")\n",
    "show_grid(env,V)\n",
    "print(\"policy\")\n",
    "show_policy(env,policy)"
   ],
   "execution_count": 5,
   "outputs": []
  }
 ],
 "metadata": {
  "kernelspec": {
   "display_name": "Python 3",
   "language": "python",
   "name": "python3"
  },
  "language_info": {
   "codemirror_mode": {
    "name": "ipython",
    "version": 3
   },
   "file_extension": ".py",
   "mimetype": "text/x-python",
   "name": "python",
   "nbconvert_exporter": "python",
   "pygments_lexer": "ipython3",
   "version": "3.9.18"
  }
 },
 "nbformat": 4,
 "nbformat_minor": 5
}
