{
 "cells": [
  {
   "cell_type": "code",
   "id": "initial_id",
   "metadata": {
    "collapsed": true,
    "ExecuteTime": {
     "end_time": "2024-05-31T12:14:14.258443Z",
     "start_time": "2024-05-31T12:14:14.013357Z"
    }
   },
   "source": [
    "import numpy as np\n",
    "import sys\n",
    "if \"../\" not in sys.path:\n",
    "    sys.path.append(\"../\")\n",
    "from lib.envs.GridEnv import Env\n",
    "from lib.utils.draw import show_grid,show_policy"
   ],
   "execution_count": 1,
   "outputs": []
  },
  {
   "metadata": {
    "ExecuteTime": {
     "end_time": "2024-05-31T12:14:14.273599Z",
     "start_time": "2024-05-31T12:14:14.259597Z"
    }
   },
   "cell_type": "code",
   "source": [
    "def value_iteration_action(env,gamma=0.9,theta=0.000001):\n",
    "    Q = np.zeros((env.observation_size,env.action_size))\n",
    "    \n",
    "    while True:\n",
    "        delta = 0\n",
    "        \n",
    "        for s in range(env.observation_size):\n",
    "            for a in range(env.action_size):\n",
    "                q = 0\n",
    "                for next_state, reward,done in env.P[s][a]:\n",
    "                    q = reward + gamma * np.max(Q[next_state])\n",
    "                delta = max(delta,abs(q-Q[s][a]))\n",
    "                Q[s][a] = q\n",
    "        if delta < theta:\n",
    "            break\n",
    "    # policy\n",
    "    policy = np.zeros((env.observation_size,env.action_size))\n",
    "    V = np.zeros(env.observation_size)\n",
    "    for s in range(env.observation_size):\n",
    "        best_action = np.argmax(Q[s])\n",
    "        policy[s][best_action] = 1 \n",
    "        V[s] = Q[s][best_action]\n",
    "    \n",
    "    return policy,V"
   ],
   "id": "3d77a1bb9c473220",
   "execution_count": 2,
   "outputs": []
  },
  {
   "metadata": {
    "ExecuteTime": {
     "end_time": "2024-05-31T12:14:14.629864Z",
     "start_time": "2024-05-31T12:14:14.274599Z"
    }
   },
   "cell_type": "code",
   "source": [
    "env = Env((5,5),p=0.5,seed=5,punish=-10)\n",
    "policy, V = value_iteration_action(env,gamma=0.9)\n",
    "print(\"原始图像\")\n",
    "show_grid(env,env.grid)\n",
    "print(\"state value function\")\n",
    "show_grid(env,V)\n",
    "print(\"policy\")\n",
    "show_policy(env,policy)"
   ],
   "id": "ab4abe4d71945a4f",
   "execution_count": 3,
   "outputs": []
  }
 ],
 "metadata": {
  "kernelspec": {
   "display_name": "Python 3",
   "language": "python",
   "name": "python3"
  },
  "language_info": {
   "codemirror_mode": {
    "name": "ipython",
    "version": 2
   },
   "file_extension": ".py",
   "mimetype": "text/x-python",
   "name": "python",
   "nbconvert_exporter": "python",
   "pygments_lexer": "ipython2",
   "version": "2.7.6"
  }
 },
 "nbformat": 4,
 "nbformat_minor": 5
}
