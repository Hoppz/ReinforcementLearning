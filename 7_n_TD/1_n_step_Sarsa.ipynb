{
 "cells": [
  {
   "cell_type": "code",
   "id": "initial_id",
   "metadata": {
    "collapsed": true,
    "ExecuteTime": {
     "end_time": "2024-06-07T01:02:36.998638Z",
     "start_time": "2024-06-07T01:02:36.643681Z"
    }
   },
   "source": [
    "%matplotlib inline\n",
    "import sys\n",
    "from collections import defaultdict,deque\n",
    "\n",
    "if \"../\" not in sys.path:\n",
    "    sys.path.append(\"../\")\n",
    "    \n",
    "import numpy as np\n",
    "from lib.envs.GridEnv import Env\n",
    "from lib.utils.draw import show_grid,show_policy,draw_line\n",
    "import matplotlib\n",
    "\n",
    "env = Env( (20, 20),p=0.4,seed=5,punish=-100)"
   ],
   "execution_count": 1,
   "outputs": []
  },
  {
   "metadata": {
    "ExecuteTime": {
     "end_time": "2024-06-07T01:02:37.014639Z",
     "start_time": "2024-06-07T01:02:36.999143Z"
    }
   },
   "cell_type": "code",
   "source": [
    "def get_epsilon_policy(Q,nA,num_episodes):\n",
    "    \n",
    "    # 逐渐递减的 eps\n",
    "    explore_frac = 0.1\n",
    "    epsilon = lambda i: 1 - 0.99 * min(1, i / (num_episodes * explore_frac))\n",
    "\n",
    "    def policy_fn(observation,i_episode):\n",
    "        # eps = epsilon(i_episode)\n",
    "        eps = 0.1\n",
    "        A = np.ones(nA) * eps / nA\n",
    "        best_action = np.argmax(Q[observation])\n",
    "        A[best_action] += (1 - eps)\n",
    "        return A\n",
    "    return policy_fn"
   ],
   "id": "b18dab5624574c9",
   "execution_count": 2,
   "outputs": []
  },
  {
   "metadata": {
    "ExecuteTime": {
     "end_time": "2024-06-07T01:02:37.030394Z",
     "start_time": "2024-06-07T01:02:37.014639Z"
    }
   },
   "cell_type": "code",
   "source": [
    "def get_action(policy,state,i_episode):\n",
    "    probs = policy(state,i_episode)\n",
    "    action = np.random.choice(range(len(probs)), p=probs)\n",
    "    return action"
   ],
   "id": "f167ab1d18f3b8b0",
   "execution_count": 3,
   "outputs": []
  },
  {
   "metadata": {
    "ExecuteTime": {
     "end_time": "2024-06-07T01:02:37.046020Z",
     "start_time": "2024-06-07T01:02:37.030394Z"
    }
   },
   "cell_type": "code",
   "source": [
    "def n_step_Sarsa(env,n,num_episodes,gamma=0.9,alpha =0.1):\n",
    "    \n",
    "    # initial Q(s,a), ExpReplayBuffer,policy\n",
    "    Q = np.zeros( (env.observation_size,env.action_size) )\n",
    "    policy = get_epsilon_policy(Q,env.action_size,num_episodes)\n",
    "    # ExpReplayBuffer\n",
    "    Exp = deque([],maxlen=n)\n",
    "    \n",
    "    # stats for output\n",
    "    stats = defaultdict(lambda: [])\n",
    "    last_step = 0\n",
    "    for i_episode in range(num_episodes):\n",
    "        if i_episode % 10 == 0:\n",
    "            #\\r 实现动态更新\n",
    "            print(f\"\\r Episode :{i_episode/num_episodes * 100:.2f}%  last step: {last_step:4}\",end = \"\")\n",
    "            sys.stdout.flush()\n",
    "        # reset stats param\n",
    "        last_step = 0\n",
    "        total_reward = 0\n",
    "        \n",
    "        # initial game\n",
    "        state = env.reset()\n",
    "        action = get_action(policy,state,i_episode)\n",
    "        T,t = 0x3f3f3f3f,0 \n",
    "        while True:\n",
    "            \n",
    "            if t < T:\n",
    "                next_state,reward,done = env.step(action)\n",
    "                next_action = get_action(policy,next_state,i_episode)\n",
    "                Exp.append( (state,action,reward,next_state,next_action) ) # S A R S A\n",
    "                # stats update\n",
    "                total_reward += reward\n",
    "                last_step += 1\n",
    "                if done:\n",
    "                    T = t + 1\n",
    "                    \n",
    "                # update\n",
    "                state, action = next_state,next_action\n",
    "                \n",
    "            tau = t - n + 1\n",
    "            if tau >= 0:\n",
    "                start = 0 if tau + n < T  else t - T\n",
    "                G = 0\n",
    "                for i_exp in range(start,1,n):\n",
    "                    exp_r = Exp[i_exp][2]\n",
    "                    G = G + exp_r * gamma\n",
    "                \n",
    "                if tau + n < T:\n",
    "                    G += (gamma ** n) * Q[ Exp[-1][3] ][ Exp[-1][4] ]\n",
    "                now_start,now_action = Exp[start][0], Exp[start][1]\n",
    "                Q[now_start][now_action] += alpha * (G - Q[now_start][now_action])\n",
    "                #print(Exp)\n",
    "            t += 1\n",
    "            \n",
    "            if tau == T - 1 :\n",
    "                break\n",
    "        stats['rewards'].append(total_reward)\n",
    "        stats['steps'].append(last_step)\n",
    "            \n",
    "    return Q,stats\n",
    "    "
   ],
   "id": "e6383a61766358f7",
   "execution_count": 4,
   "outputs": []
  },
  {
   "metadata": {
    "ExecuteTime": {
     "end_time": "2024-06-07T01:02:56.442366Z",
     "start_time": "2024-06-07T01:02:37.047210Z"
    }
   },
   "cell_type": "code",
   "source": [
    "show_grid(env,env.grid)\n",
    "num_episodes = 1000\n",
    "Q,stats = n_step_Sarsa(env,4,num_episodes=num_episodes,gamma=0.99,alpha=0.1)\n",
    "V = np.zeros( env.observation_size )\n",
    "policy = np.zeros_like(Q)\n",
    "for i in range(len(V)):\n",
    "    best_action = np.argmax(Q[i])\n",
    "    V[i] = Q[i][best_action]\n",
    "    policy[i][best_action] = 1\n",
    "show_policy(env,policy)\n",
    "draw_line(stats)\n"
   ],
   "id": "fde028f85c1c5c37",
   "execution_count": 5,
   "outputs": []
  },
  {
   "metadata": {
    "ExecuteTime": {
     "end_time": "2024-06-07T01:02:57.030684Z",
     "start_time": "2024-06-07T01:02:56.443292Z"
    }
   },
   "cell_type": "code",
   "source": "show_grid(env,V)",
   "id": "63ac8c9098029f3f",
   "execution_count": 6,
   "outputs": []
  },
  {
   "metadata": {
    "ExecuteTime": {
     "end_time": "2024-06-07T01:02:57.046168Z",
     "start_time": "2024-06-07T01:02:57.031691Z"
    }
   },
   "cell_type": "code",
   "source": [
    "a = [1,2,3,4,5,6]\n",
    "print(a[-8:])"
   ],
   "id": "e7701c0d6d52c8bd",
   "execution_count": 7,
   "outputs": []
  }
 ],
 "metadata": {
  "kernelspec": {
   "display_name": "Python 3",
   "language": "python",
   "name": "python3"
  },
  "language_info": {
   "codemirror_mode": {
    "name": "ipython",
    "version": 2
   },
   "file_extension": ".py",
   "mimetype": "text/x-python",
   "name": "python",
   "nbconvert_exporter": "python",
   "pygments_lexer": "ipython2",
   "version": "2.7.6"
  }
 },
 "nbformat": 4,
 "nbformat_minor": 5
}
