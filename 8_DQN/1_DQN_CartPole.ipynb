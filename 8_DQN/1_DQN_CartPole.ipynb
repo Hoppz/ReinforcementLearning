{
 "cells": [
  {
   "metadata": {},
   "cell_type": "markdown",
   "source": [
    "  `cart pole` 这个环境很容易在一个地方找到最优解，但是移动到其他地方就不会了。\n",
    "  \n",
    "  所以采用把 episode 分成 10 个大块，再卡一下最高的时间，在其他地方也能搜到最优解。\n",
    "  \n",
    "  最开始的时候，我没卡时间，参数也没设置对，Return 图的方差特别大。"
   ],
   "id": "54a9c0ae2758c8ce"
  },
  {
   "cell_type": "code",
   "id": "initial_id",
   "metadata": {
    "collapsed": true,
    "ExecuteTime": {
     "end_time": "2024-06-12T08:56:24.226728Z",
     "start_time": "2024-06-12T08:56:22.993557Z"
    }
   },
   "source": [
    "import gymnasium as gym\n",
    "import torch\n",
    "from ReplayBuffer import ReplayBuffer\n",
    "from collections import defaultdict\n",
    "from DQNAgent import DQNAgent\n",
    "from tqdm import tqdm\n",
    "import numpy as np\n",
    "from lib.utils.draw import draw_line"
   ],
   "execution_count": 1,
   "outputs": []
  },
  {
   "metadata": {
    "ExecuteTime": {
     "end_time": "2024-06-12T08:56:24.719068Z",
     "start_time": "2024-06-12T08:56:24.226728Z"
    }
   },
   "cell_type": "code",
   "source": [
    "# parameter\n",
    "lr = 1e-3\n",
    "hidden_dim = 128\n",
    "gamma = 0.98\n",
    "epsilon = 0.01\n",
    "target_replace = 10\n",
    "buffer_size = 10000\n",
    "minimal_size = 500\n",
    "batch_size = 64\n",
    "SEED = 0\n",
    "env = gym.make('CartPole-v1')\n",
    "\n",
    "\n",
    "\n",
    "torch.manual_seed(SEED)\n",
    "np.random.seed(SEED)\n",
    "\n",
    "memory = ReplayBuffer(buffer_size)\n",
    "state_dim = env.observation_space.shape[0]\n",
    "action_dim = env.action_space.n\n",
    "\n",
    "agent = DQNAgent(state_dim,hidden_dim, action_dim, lr, gamma, epsilon,target_replace, SEED)\n",
    "stats = defaultdict(lambda: [])"
   ],
   "id": "9afea5d12668326a",
   "execution_count": 2,
   "outputs": []
  },
  {
   "metadata": {
    "ExecuteTime": {
     "end_time": "2024-06-12T08:56:37.945653Z",
     "start_time": "2024-06-12T08:56:24.719575Z"
    }
   },
   "cell_type": "code",
   "source": [
    "env = gym.make('CartPole-v1')\n",
    "num_episodes = 500\n",
    "num_part = 10\n",
    "seed_list = np.random.randint(num_episodes*10,size=num_episodes)\n",
    "env_seed_list = [int(i) for i in seed_list]\n",
    "for i in range(num_part):\n",
    "    with tqdm( total= int(num_episodes/num_part), desc = 'Iteration %d' % i) as pbar:\n",
    "        for i_episode in range( int(num_episodes/num_part) ):\n",
    "\n",
    "            state = np.array(env.reset(seed=env_seed_list[i_episode])[0])\n",
    "            done = False\n",
    "            stats_rewards = 0\n",
    "            stats_steps = 0\n",
    "            eps = 0\n",
    "            while not done:\n",
    "                action = agent.get_action(state,i_episode,num_episodes/num_part)\n",
    "                # env.step() 的返回为一个 ()\n",
    "                # (array([-0.18629785, -1.7418021 ,  0.23948981,  2.7527318 ], dtype=float32), 1.0, True, False, {})\n",
    "                result = env.step(action)\n",
    "                next_state, reward, done  =  result[0], result[1], result[2]\n",
    "                memory.add(state, action, reward, next_state, done)\n",
    "                state = next_state\n",
    "                # stats update\n",
    "                stats_rewards += reward\n",
    "                stats_steps += 1\n",
    "                \n",
    "                if len(memory) > minimal_size:\n",
    "                    b_s,b_a,b_r,n_ns,b_d = memory.sample(batch_size)\n",
    "                    transition_dict = {\n",
    "                        'states': b_s,\n",
    "                        'actions': b_a,\n",
    "                        'rewards': b_r,\n",
    "                        'next_states': n_ns,\n",
    "                        'dones': b_d,\n",
    "                    }\n",
    "                    agent.update(transition_dict)\n",
    "                # if stats_steps > 800:\n",
    "                #     break\n",
    "            stats['rewards'].append(stats_rewards)\n",
    "            stats['steps'].append(stats_steps)\n",
    "            # tqdm\n",
    "            if (i_episode + 1) % 10 == 0:\n",
    "                pbar.set_postfix({\n",
    "                    'episode': '%d' % (num_episodes / 10 * i + i_episode + 1),\n",
    "                    'return': '%.3f' % np.mean(stats['rewards'][-10:]),\n",
    "                })\n",
    "            pbar.update(1)\n",
    "\n"
   ],
   "id": "65d914b6c8bb5faf",
   "execution_count": 3,
   "outputs": []
  },
  {
   "metadata": {},
   "cell_type": "code",
   "source": "draw_line(stats)",
   "id": "5f33410faeb251d9",
   "execution_count": null,
   "outputs": []
  },
  {
   "metadata": {},
   "cell_type": "code",
   "source": [
    "env = gym.make('CartPole-v1',render_mode='human')\n",
    "\n",
    "\n",
    "test_episode = 10\n",
    "STATS = defaultdict(lambda: [])\n",
    "for i in range(test_episode):\n",
    "    stats_rewards = 0\n",
    "    stats_steps = 0\n",
    "    state = env.reset()[0]\n",
    "    done = False\n",
    "    while not done:\n",
    "        action = agent.predict_action(state)\n",
    "        result = env.step(action)\n",
    "        next_state, reward, done  =  result[0], result[1], result[2]\n",
    "\n",
    "        state = next_state\n",
    "        #stats update\n",
    "        stats_rewards += reward\n",
    "        stats_steps += 1\n",
    "\n",
    "    STATS['rewards'].append(stats_rewards)\n",
    "    STATS['steps'].append(stats_steps)\n",
    "    \n",
    "draw_line(STATS)"
   ],
   "id": "3a33defbd7f900f6",
   "execution_count": null,
   "outputs": []
  },
  {
   "metadata": {},
   "cell_type": "code",
   "source": "",
   "id": "341ff704e8b0ce63",
   "execution_count": null,
   "outputs": []
  },
  {
   "metadata": {},
   "cell_type": "code",
   "source": "",
   "id": "dd233cc2a664a8c8",
   "execution_count": null,
   "outputs": []
  }
 ],
 "metadata": {
  "kernelspec": {
   "display_name": "Python 3",
   "language": "python",
   "name": "python3"
  },
  "language_info": {
   "codemirror_mode": {
    "name": "ipython",
    "version": 2
   },
   "file_extension": ".py",
   "mimetype": "text/x-python",
   "name": "python",
   "nbconvert_exporter": "python",
   "pygments_lexer": "ipython2",
   "version": "2.7.6"
  }
 },
 "nbformat": 4,
 "nbformat_minor": 5
}
