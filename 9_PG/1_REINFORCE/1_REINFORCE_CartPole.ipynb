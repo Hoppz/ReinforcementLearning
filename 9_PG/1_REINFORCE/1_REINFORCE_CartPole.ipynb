{
 "cells": [
  {
   "metadata": {},
   "cell_type": "markdown",
   "source": "![img](./img/img.png)",
   "id": "9bbe878b06ee6a90"
  },
  {
   "cell_type": "code",
   "id": "initial_id",
   "metadata": {
    "collapsed": true
   },
   "source": [
    "import gymnasium as gym\n",
    "import torch\n",
    "from REINFORCEAgent import REINFORCEAgent\n",
    "from collections import defaultdict\n",
    "\n",
    "from tqdm import tqdm\n",
    "import numpy as np\n",
    "from lib.utils.draw import draw_line"
   ],
   "outputs": [],
   "execution_count": null
  },
  {
   "metadata": {},
   "cell_type": "code",
   "source": [
    "# parameter\n",
    "lr = 1e-3\n",
    "hidden_dim = 128\n",
    "gamma = 0.98\n",
    "SEED = 0\n",
    "env = gym.make('CartPole-v1')\n",
    "torch.manual_seed(SEED)\n",
    "np.random.seed(SEED)\n",
    "\n",
    "state_dim = env.observation_space.shape[0]\n",
    "action_dim = env.action_space.n\n",
    "\n",
    "agent = REINFORCEAgent(state_dim,hidden_dim, action_dim, lr, gamma, SEED)\n",
    "stats = defaultdict(lambda: [])"
   ],
   "id": "3d1d7fa00675ee68",
   "outputs": [],
   "execution_count": null
  },
  {
   "metadata": {},
   "cell_type": "code",
   "source": [
    "env = gym.make('CartPole-v1')\n",
    "num_episodes = 1000\n",
    "num_part = 10\n",
    "seed_list = np.random.randint(num_episodes*10,size=num_episodes)\n",
    "print(seed_list[0:10], seed_list[-10:])\n",
    "env_seed_list = [int(i) for i in seed_list]\n",
    "for i in range(num_part):\n",
    "    with tqdm( total= int(num_episodes/num_part), desc = 'Iteration %d' % i) as pbar:\n",
    "        for i_episode in range( int(num_episodes/num_part) ):\n",
    "\n",
    "            state = np.array(env.reset(seed=env_seed_list[i_episode])[0])\n",
    "            done = False\n",
    "            stats_rewards = 0\n",
    "            stats_steps = 0\n",
    "            eps = 0\n",
    "            \n",
    "            transition_dict = defaultdict(lambda: [])\n",
    "            while not done:\n",
    "                action = agent.get_action(state)\n",
    "                # env.step() 的返回为一个 ()\n",
    "                # (array([-0.18629785, -1.7418021 ,  0.23948981,  2.7527318 ], dtype=float32), 1.0, True, False, {})\n",
    "                result = env.step(action)\n",
    "                next_state, reward, done  =  result[0], result[1], result[2]\n",
    "\n",
    "                transition_dict['states'].append(state)\n",
    "                transition_dict['actions'].append(action)\n",
    "                transition_dict['rewards'].append(reward)\n",
    "                transition_dict['next_states'].append(next_state)\n",
    "                transition_dict['dones'].append(done)\n",
    "            \n",
    "                # stats update\n",
    "                stats_rewards += reward\n",
    "                stats_steps += 1\n",
    "                \n",
    "                # \n",
    "                # if stats_steps > 200:\n",
    "                #     break\n",
    "                state = next_state\n",
    "            # update policy net\n",
    "            agent.update(transition_dict)\n",
    "            \n",
    "            stats['rewards'].append(stats_rewards)\n",
    "            stats['steps'].append(stats_steps)\n",
    "            # tqdm\n",
    "            if (i_episode + 1) % 10 == 0:\n",
    "                pbar.set_postfix({\n",
    "                    'episode': '%d' % (num_episodes / 10 * i + i_episode + 1),\n",
    "                    'return': '%.3f' % np.mean(stats['rewards'][-10:]),\n",
    "                })\n",
    "            pbar.update(1)\n",
    "\n"
   ],
   "id": "430ee5afd41b631c",
   "outputs": [],
   "execution_count": null
  },
  {
   "metadata": {},
   "cell_type": "code",
   "source": "draw_line(stats)",
   "id": "3b620ce2ba5218f0",
   "outputs": [],
   "execution_count": null
  },
  {
   "metadata": {},
   "cell_type": "code",
   "source": [
    "env = gym.make('CartPole-v1',render_mode='human')\n",
    "\n",
    "\n",
    "test_episode = 10\n",
    "STATS = defaultdict(lambda: [])\n",
    "for i in range(test_episode):\n",
    "    stats_rewards = 0\n",
    "    stats_steps = 0\n",
    "    state = env.reset()[0]\n",
    "    done = False\n",
    "    while not done:\n",
    "        action = agent.predict_action(state)\n",
    "        result = env.step(action)\n",
    "        next_state, reward, done  =  result[0], result[1], result[2]\n",
    "\n",
    "        state = next_state\n",
    "        #stats update\n",
    "        stats_rewards += reward\n",
    "        stats_steps += 1\n",
    "\n",
    "    STATS['rewards'].append(stats_rewards)\n",
    "    STATS['steps'].append(stats_steps)\n",
    "    \n",
    "draw_line(STATS)"
   ],
   "id": "589a8ed3989857cc",
   "outputs": [],
   "execution_count": null
  }
 ],
 "metadata": {
  "kernelspec": {
   "display_name": "Python 3",
   "language": "python",
   "name": "python3"
  },
  "language_info": {
   "codemirror_mode": {
    "name": "ipython",
    "version": 2
   },
   "file_extension": ".py",
   "mimetype": "text/x-python",
   "name": "python",
   "nbconvert_exporter": "python",
   "pygments_lexer": "ipython2",
   "version": "2.7.6"
  }
 },
 "nbformat": 4,
 "nbformat_minor": 5
}
