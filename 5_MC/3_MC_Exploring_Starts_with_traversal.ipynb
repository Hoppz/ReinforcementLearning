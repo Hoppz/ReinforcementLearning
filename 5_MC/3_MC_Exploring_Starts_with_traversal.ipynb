{
 "cells": [
  {
   "metadata": {},
   "cell_type": "markdown",
   "source": [
    "\n",
    "# Monte Carlo Exploring Starts\n",
    "\n",
    "需要保证所有的 state - action pair 都有概率被访问到，\n",
    "最好是在初始化的时候遍历 state - action \n",
    "\n",
    "---\n",
    "\n",
    "探索性搜索和贪心的更新策略被强制性的分成了第一次的遍历 \n",
    "\n",
    "和之后的按策略选择\n"
   ],
   "id": "7b0326929911f7"
  },
  {
   "metadata": {
    "ExecuteTime": {
     "end_time": "2024-06-04T05:47:23.286016Z",
     "start_time": "2024-06-04T05:47:22.950608Z"
    }
   },
   "cell_type": "code",
   "source": [
    "%matplotlib inline\n",
    "import sys\n",
    "from collections import defaultdict\n",
    "\n",
    "if \"../\" not in sys.path:\n",
    "    sys.path.append(\"../\")\n",
    "    \n",
    "import numpy as np\n",
    "from lib.envs.blackjack import BlackjackEnv\n",
    "from lib.utils.draw import show_policy_black,show_value_function\n",
    "import matplotlib\n",
    "\n",
    "matplotlib.style.use('ggplot')\n",
    "env = BlackjackEnv()"
   ],
   "id": "initial_id",
   "execution_count": 1,
   "outputs": []
  },
  {
   "metadata": {},
   "cell_type": "markdown",
   "source": "",
   "id": "c09cdd6d98395ac5"
  },
  {
   "metadata": {
    "ExecuteTime": {
     "end_time": "2024-06-04T05:47:23.302Z",
     "start_time": "2024-06-04T05:47:23.287050Z"
    }
   },
   "cell_type": "code",
   "source": [
    "def get_policy(Q,nA):\n",
    "    \"\"\"\n",
    "        \n",
    "    \"\"\"\n",
    "    def policy_fn(observation):\n",
    "        A = np.zeros(nA, dtype=float)\n",
    "        best_action = np.argmax(Q[observation])\n",
    "        A[best_action] = 1.0\n",
    "        return A\n",
    "    return policy_fn"
   ],
   "id": "6e8e8e3aa2854cc4",
   "execution_count": 2,
   "outputs": []
  },
  {
   "metadata": {
    "ExecuteTime": {
     "end_time": "2024-06-04T05:47:23.317680Z",
     "start_time": "2024-06-04T05:47:23.302626Z"
    }
   },
   "cell_type": "code",
   "source": [
    "def mc_exploring_starts(env,num_episodes,gamma=1.0):\n",
    "    returns_num = defaultdict(float)\n",
    "    returns_count = defaultdict(float)\n",
    "    \n",
    "    # 设置 map, value 的默认值为 [0,0]\n",
    "    Q = defaultdict(lambda: np.zeros(env.nA))\n",
    "    \n",
    "    policy = get_policy(Q,env.nA)\n",
    "    \n",
    "    for i_episode in range(num_episodes):\n",
    "        if i_episode % 10 == 0:\n",
    "            # \\r 实现动态更新\n",
    "            print(f\"\\rEpisode :{i_episode/num_episodes * 100:.2f}%\",end = \"\")\n",
    "            sys.stdout.flush()\n",
    "            \n",
    "        # 遍历生成所有的情况\n",
    "        for player in range(12,22): # player\n",
    "            for dealer in range(1,11): # dealer\n",
    "                for ace in (True, False):   # has ace ?\n",
    "                    for ac in [0,1]:   # the first action\n",
    "\n",
    "                        if ace:\n",
    "                            player_list = [1,player-10 ]\n",
    "                            dealer_list = [dealer]\n",
    "                            state = env.set_reset(player_list,dealer_list)\n",
    "                        else:\n",
    "                            player_list= [player]\n",
    "                            dealer_list = [dealer]\n",
    "                            state = env.set_reset(player_list,dealer_list)\n",
    "                        \n",
    "                        first = True # 第一次用遍历的行为\n",
    "                        stack_state_action = []\n",
    "                        stack_reward = []   \n",
    "                        \n",
    "                        # 生成一个 episode\n",
    "                        while True:\n",
    "                            if first:                   # 第一个 action 用我们自己生成的\n",
    "                                first = False\n",
    "                                action = ac\n",
    "                            else:\n",
    "                                probs = policy(state)   # 之后的 action 用 policy 中的\n",
    "                                action = np.random.choice( np.arange(len(probs)),p = probs )\n",
    "                            # \n",
    "                            next_state, reward, done, _ = env.step(action)\n",
    "                            stack_state_action.append( (state,action) )\n",
    "                            stack_reward.append(reward)\n",
    "                            if done:\n",
    "                                break\n",
    "                            state = next_state\n",
    "                        # 回溯 episode\n",
    "                        size = len(stack_reward)\n",
    "                        G = 0\n",
    "                        for i in range(size-1,-1,-1):\n",
    "                            state, action = stack_state_action[i]\n",
    "                            state = tuple(state)\n",
    "                            key = (state, action)\n",
    "                            \n",
    "                            G = gamma * G + stack_reward[i]\n",
    "                            if stack_state_action[i] not in stack_state_action[0:i]:\n",
    "                                returns_num[key] += G\n",
    "                                returns_count[key] += 1.0\n",
    "                                Q[state][action] = returns_num[key] / returns_count[key]\n",
    "    return Q,policy"
   ],
   "id": "27dfbebac667cd0",
   "execution_count": 3,
   "outputs": []
  },
  {
   "metadata": {
    "ExecuteTime": {
     "end_time": "2024-06-04T05:48:45.600754Z",
     "start_time": "2024-06-04T05:47:23.317680Z"
    }
   },
   "cell_type": "code",
   "source": "Q, policy = mc_exploring_starts(env,num_episodes=10000,gamma=1.0)",
   "id": "32974a6505fa1797",
   "execution_count": 4,
   "outputs": []
  },
  {
   "metadata": {
    "ExecuteTime": {
     "end_time": "2024-06-04T05:48:45.616640Z",
     "start_time": "2024-06-04T05:48:45.600754Z"
    }
   },
   "cell_type": "code",
   "source": "",
   "id": "cd6ff1df8ca36457",
   "execution_count": 4,
   "outputs": []
  },
  {
   "metadata": {
    "ExecuteTime": {
     "end_time": "2024-06-04T05:48:45.876069Z",
     "start_time": "2024-06-04T05:48:45.617145Z"
    }
   },
   "cell_type": "code",
   "source": [
    "V = defaultdict(float)\n",
    "for state, actions in Q.items():\n",
    "    action_value = np.max(actions)\n",
    "    V[state] = action_value\n",
    "show_value_function(V, title=\"Optimal Value Function\")"
   ],
   "id": "4a14419e8d198c5d",
   "execution_count": 5,
   "outputs": []
  },
  {
   "metadata": {
    "ExecuteTime": {
     "end_time": "2024-06-04T05:48:45.955866Z",
     "start_time": "2024-06-04T05:48:45.876069Z"
    }
   },
   "cell_type": "code",
   "source": [
    "\n",
    "show_policy_black(policy,V,ace = False)"
   ],
   "id": "7d53e40e7b126885",
   "execution_count": 6,
   "outputs": []
  },
  {
   "metadata": {},
   "cell_type": "markdown",
   "source": [
    "## the result in book\n",
    "![img](../img/mc_exploring_starts.png)\n",
    "## the result in code\n",
    "![img](../img/3_traversal.png)\n"
   ],
   "id": "61dd562f690e96c4"
  }
 ],
 "metadata": {
  "kernelspec": {
   "display_name": "Python 3",
   "language": "python",
   "name": "python3"
  },
  "language_info": {
   "codemirror_mode": {
    "name": "ipython",
    "version": 2
   },
   "file_extension": ".py",
   "mimetype": "text/x-python",
   "name": "python",
   "nbconvert_exporter": "python",
   "pygments_lexer": "ipython2",
   "version": "2.7.6"
  }
 },
 "nbformat": 4,
 "nbformat_minor": 5
}
