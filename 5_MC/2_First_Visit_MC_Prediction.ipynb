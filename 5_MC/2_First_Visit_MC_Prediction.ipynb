{
 "cells": [
  {
   "cell_type": "code",
   "id": "initial_id",
   "metadata": {
    "collapsed": true,
    "ExecuteTime": {
     "end_time": "2024-06-03T11:42:30.182858Z",
     "start_time": "2024-06-03T11:42:29.863171Z"
    }
   },
   "source": [
    "%matplotlib inline\n",
    "import sys\n",
    "from collections import defaultdict\n",
    "\n",
    "if \"../\" not in sys.path:\n",
    "    sys.path.append(\"../\")\n",
    "    \n",
    "import numpy as np\n",
    "from lib.envs.blackjack import BlackjackEnv\n",
    "from lib.utils.draw import show_value_function\n",
    "import matplotlib\n",
    "\n",
    "matplotlib.style.use('ggplot')\n",
    "env = BlackjackEnv()"
   ],
   "execution_count": 1,
   "outputs": []
  },
  {
   "metadata": {
    "ExecuteTime": {
     "end_time": "2024-06-03T11:42:30.198900Z",
     "start_time": "2024-06-03T11:42:30.184857Z"
    }
   },
   "cell_type": "code",
   "source": [
    "def sample_policy(observation):\n",
    "    score, dealer_score, usable_ace = observation\n",
    "    return 0 if score >= 20 else 1"
   ],
   "id": "56cf1c35ed6482a8",
   "execution_count": 2,
   "outputs": []
  },
  {
   "metadata": {
    "ExecuteTime": {
     "end_time": "2024-06-03T11:42:30.214283Z",
     "start_time": "2024-06-03T11:42:30.199903Z"
    }
   },
   "cell_type": "code",
   "source": [
    "def mc_prediction(policy, env, num_episodes, gamma=1.0):\n",
    "    # defaultdict(float)\n",
    "    # float -> 确实的键自动赋值 0.0\n",
    "    # 一种字典子类，它允许指定一个默认的工厂函数来为字典的缺失键提供默认值。\n",
    "    returns_num = defaultdict(float)\n",
    "    returns_count = defaultdict(float)\n",
    "    \n",
    "    V = defaultdict(float)\n",
    "    \n",
    "    for i_episode in range(num_episodes):\n",
    "        \n",
    "        if i_episode % 1000 == 0:\n",
    "            # \\r 实现动态更新\n",
    "            print(f\"\\rEpisode :{i_episode}/{num_episodes}\",end = \"\")\n",
    "            sys.stdout.flush()\n",
    "        \n",
    "        stack_state = []\n",
    "        stack_reward = []\n",
    "        state = env.reset()\n",
    "        #\n",
    "        while True:\n",
    "            action = policy(state)\n",
    "            next_state, reward, done, _ = env.step(action)\n",
    "            stack_state.append(state)\n",
    "            stack_reward.append(reward)\n",
    "            if done:\n",
    "                break\n",
    "            state = next_state\n",
    "        \n",
    "        size = len(stack_state)\n",
    "        G = 0\n",
    "        for i in range(size-1,-1,-1):\n",
    "            key = tuple(stack_state[i])\n",
    "            G = gamma * G + stack_reward[i]\n",
    "            \n",
    "            if stack_state[i] not in stack_state[0:i]:\n",
    "                returns_num[key] += G\n",
    "                returns_count[key] += 1.0\n",
    "                V[key] = returns_num[key] / returns_count[key]\n",
    "        \n",
    "    return V\n",
    "        \n",
    "        "
   ],
   "id": "cbb15c2a458af170",
   "execution_count": 3,
   "outputs": []
  },
  {
   "metadata": {
    "ExecuteTime": {
     "end_time": "2024-06-03T11:42:30.832210Z",
     "start_time": "2024-06-03T11:42:30.215802Z"
    }
   },
   "cell_type": "code",
   "source": [
    "V_10k = mc_prediction(sample_policy, env, num_episodes=10000)\n",
    "\n",
    "show_value_function(V_10k, title=\"10,000 Steps\")"
   ],
   "id": "d572669cc16cd6e2",
   "execution_count": 4,
   "outputs": []
  },
  {
   "metadata": {
    "ExecuteTime": {
     "end_time": "2024-06-03T11:42:30.847455Z",
     "start_time": "2024-06-03T11:42:30.833210Z"
    }
   },
   "cell_type": "code",
   "source": "",
   "id": "b08563e21b47fad8",
   "execution_count": 4,
   "outputs": []
  },
  {
   "metadata": {
    "ExecuteTime": {
     "end_time": "2024-06-03T11:42:30.862743Z",
     "start_time": "2024-06-03T11:42:30.848682Z"
    }
   },
   "cell_type": "code",
   "source": [
    "test = [1,0,1,1,1,0,1]\n",
    "\n",
    "idx = next( i for i,x in enumerate(test) if x == 1 )\n",
    "print(idx)\n",
    "\n",
    "list1 = [1, 2, 3, 4, 5]\n",
    "list2 = ['a', 'b', 'c', 'd', 'e']\n",
    "\n",
    "\n"
   ],
   "id": "bb352db4f7271031",
   "execution_count": 5,
   "outputs": []
  }
 ],
 "metadata": {
  "kernelspec": {
   "display_name": "Python 3",
   "language": "python",
   "name": "python3"
  },
  "language_info": {
   "codemirror_mode": {
    "name": "ipython",
    "version": 2
   },
   "file_extension": ".py",
   "mimetype": "text/x-python",
   "name": "python",
   "nbconvert_exporter": "python",
   "pygments_lexer": "ipython2",
   "version": "2.7.6"
  }
 },
 "nbformat": 4,
 "nbformat_minor": 5
}
