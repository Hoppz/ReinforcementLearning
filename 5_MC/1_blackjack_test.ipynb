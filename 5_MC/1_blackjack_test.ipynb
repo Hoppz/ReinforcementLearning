{
 "cells": [
  {
   "cell_type": "code",
   "id": "initial_id",
   "metadata": {
    "collapsed": true,
    "ExecuteTime": {
     "end_time": "2024-06-01T08:13:48.809577Z",
     "start_time": "2024-06-01T08:13:48.802578Z"
    }
   },
   "source": [
    "import sys\n",
    "\n",
    "if \"../\" not in sys.path:\n",
    "    sys.path.append(\"../\")\n",
    "    \n",
    "from lib.envs.blackjack import BlackjackEnv\n",
    "import numpy as np\n",
    "\n",
    "env = BlackjackEnv()"
   ],
   "execution_count": 3,
   "outputs": []
  },
  {
   "metadata": {
    "ExecuteTime": {
     "end_time": "2024-06-01T08:13:48.824928Z",
     "start_time": "2024-06-01T08:13:48.810577Z"
    }
   },
   "cell_type": "code",
   "source": [
    "# 打印结果\n",
    "def print_ob(observation):\n",
    "    score, dealer_score, usable_ace = observation\n",
    "    print(f\"Player Score : {score} (Usable Ace : {usable_ace}), Dealer Score : {dealer_score}  \")\n",
    "\n",
    "# 策略\n",
    "def strategy(observation):\n",
    "    score, dealer_score, usable_ace = observation\n",
    "    # 大于 20 点就不要牌了， 小于就要\n",
    "    return 0 if score >= 20 else 1 \n",
    "\n",
    "for iter in range(10):\n",
    "    observation = env.reset()\n",
    "    print(\"------------------------------------------------------\")\n",
    "    while True:\n",
    "        print_ob(observation)\n",
    "        action = strategy(observation)\n",
    "        print(\"Taking action: {}\".format( [\"Stick\", \"Hit\"][action]))\n",
    "        observation, reward, done, info = env.step(action)\n",
    "        if done:\n",
    "            print_ob(observation)\n",
    "            print(\"Game end. Reward: {}\\n\".format(float(reward)))\n",
    "            break\n",
    "        \n"
   ],
   "id": "a07393a5d072e222",
   "execution_count": 4,
   "outputs": []
  },
  {
   "metadata": {
    "ExecuteTime": {
     "end_time": "2024-06-01T08:13:48.839961Z",
     "start_time": "2024-06-01T08:13:48.825630Z"
    }
   },
   "cell_type": "code",
   "source": "",
   "id": "dfdbad110e6ad753",
   "execution_count": 4,
   "outputs": []
  },
  {
   "metadata": {
    "ExecuteTime": {
     "end_time": "2024-06-01T08:13:48.855775Z",
     "start_time": "2024-06-01T08:13:48.840474Z"
    }
   },
   "cell_type": "code",
   "source": "",
   "id": "155022e70c1dd298",
   "execution_count": 4,
   "outputs": []
  }
 ],
 "metadata": {
  "kernelspec": {
   "display_name": "Python 3",
   "language": "python",
   "name": "python3"
  },
  "language_info": {
   "codemirror_mode": {
    "name": "ipython",
    "version": 2
   },
   "file_extension": ".py",
   "mimetype": "text/x-python",
   "name": "python",
   "nbconvert_exporter": "python",
   "pygments_lexer": "ipython2",
   "version": "2.7.6"
  }
 },
 "nbformat": 4,
 "nbformat_minor": 5
}
