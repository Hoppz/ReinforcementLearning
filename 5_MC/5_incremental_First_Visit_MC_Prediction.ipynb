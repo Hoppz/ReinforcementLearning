{
 "cells": [
  {
   "metadata": {},
   "cell_type": "markdown",
   "source": [
    "## Fisrt-Visit MC Prediction with Incremental Implementation\n",
    "\n",
    "练习 5.9 \n",
    "\n",
    "$$\n",
    "    V_{t+1}(s) = V_{t}(s) + \\frac{1}{t+1} ( G_{t+1} - V_{t}(s)   )\n",
    "$$"
   ],
   "id": "d3ab6a3c2d377e7e"
  },
  {
   "metadata": {
    "ExecuteTime": {
     "end_time": "2024-06-04T06:38:13.547870Z",
     "start_time": "2024-06-04T06:38:13.528864Z"
    }
   },
   "cell_type": "code",
   "source": [
    "%matplotlib inline\n",
    "import sys\n",
    "from collections import defaultdict\n",
    "\n",
    "if \"../\" not in sys.path:\n",
    "    sys.path.append(\"../\")\n",
    "    \n",
    "import numpy as np\n",
    "from lib.envs.blackjack import BlackjackEnv\n",
    "from lib.utils.draw import show_value_function\n",
    "import matplotlib\n",
    "\n",
    "matplotlib.style.use('ggplot')\n",
    "env = BlackjackEnv()"
   ],
   "id": "c957df00c4f90b01",
   "execution_count": 5,
   "outputs": []
  },
  {
   "metadata": {
    "ExecuteTime": {
     "end_time": "2024-06-04T06:38:13.563356Z",
     "start_time": "2024-06-04T06:38:13.548871Z"
    }
   },
   "cell_type": "code",
   "source": [
    "def sample_policy(observation):\n",
    "    score, dealer_score, usable_ace = observation\n",
    "    return 0 if score >= 20 else 1"
   ],
   "id": "4dd8aa6fdc21b1d2",
   "execution_count": 6,
   "outputs": []
  },
  {
   "metadata": {
    "ExecuteTime": {
     "end_time": "2024-06-04T06:38:13.579360Z",
     "start_time": "2024-06-04T06:38:13.564352Z"
    }
   },
   "cell_type": "code",
   "source": [
    "def mc_prediction(policy, env, num_episodes, gamma=1.0):\n",
    "    # defaultdict(float)\n",
    "    # float -> 确实的键自动赋值 0.0\n",
    "    # 一种字典子类，它允许指定一个默认的工厂函数来为字典的缺失键提供默认值。\n",
    "    \n",
    "    \n",
    "    V = defaultdict(float)\n",
    "    V_count = defaultdict(float)\n",
    "    \n",
    "    for i_episode in range(num_episodes):\n",
    "        \n",
    "        if i_episode % 1000 == 0:\n",
    "            # \\r 实现动态更新\n",
    "            print(f\"\\rEpisode :{i_episode}/{num_episodes}\",end = \"\")\n",
    "            sys.stdout.flush()\n",
    "        \n",
    "        stack_state = []\n",
    "        stack_reward = []\n",
    "        state = env.reset()\n",
    "        #\n",
    "        while True:\n",
    "            action = policy(state)\n",
    "            next_state, reward, done, _ = env.step(action)\n",
    "            stack_state.append(state)\n",
    "            stack_reward.append(reward)\n",
    "            if done:\n",
    "                break\n",
    "            state = next_state\n",
    "        \n",
    "        size = len(stack_state)\n",
    "        G = 0\n",
    "        for i in range(size-1,-1,-1):\n",
    "            key = tuple(stack_state[i])\n",
    "            G = gamma * G + stack_reward[i]\n",
    "            \n",
    "            if stack_state[i] not in stack_state[0:i]:\n",
    "                # increment implementation\n",
    "                V_count[key] += 1\n",
    "                V[key] = V[key] + 1/V_count[key] * ( G - V[key] )\n",
    "        \n",
    "    return V\n",
    "        \n",
    "        "
   ],
   "id": "4f9fb4dd40aaa73c",
   "execution_count": 7,
   "outputs": []
  },
  {
   "metadata": {
    "ExecuteTime": {
     "end_time": "2024-06-04T06:38:14.201551Z",
     "start_time": "2024-06-04T06:38:13.579360Z"
    }
   },
   "cell_type": "code",
   "source": [
    "V_10k = mc_prediction(sample_policy, env, num_episodes=10000)\n",
    "\n",
    "show_value_function(V_10k, title=\"10,000 Steps\")"
   ],
   "id": "ec9536bdf3a4d3e8",
   "execution_count": 8,
   "outputs": []
  },
  {
   "metadata": {
    "ExecuteTime": {
     "end_time": "2024-06-04T06:38:14.217037Z",
     "start_time": "2024-06-04T06:38:14.202551Z"
    }
   },
   "cell_type": "code",
   "source": "",
   "id": "978f916a11bae5db",
   "execution_count": 8,
   "outputs": []
  },
  {
   "metadata": {
    "ExecuteTime": {
     "end_time": "2024-06-04T06:38:14.232697Z",
     "start_time": "2024-06-04T06:38:14.217677Z"
    }
   },
   "cell_type": "code",
   "source": "",
   "id": "68b0a5af77fd4ab",
   "execution_count": 8,
   "outputs": []
  }
 ],
 "metadata": {
  "kernelspec": {
   "display_name": "Python 3",
   "language": "python",
   "name": "python3"
  },
  "language_info": {
   "codemirror_mode": {
    "name": "ipython",
    "version": 2
   },
   "file_extension": ".py",
   "mimetype": "text/x-python",
   "name": "python",
   "nbconvert_exporter": "python",
   "pygments_lexer": "ipython2",
   "version": "2.7.6"
  }
 },
 "nbformat": 4,
 "nbformat_minor": 5
}
