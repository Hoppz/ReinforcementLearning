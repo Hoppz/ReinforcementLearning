{
 "cells": [
  {
   "cell_type": "code",
   "id": "initial_id",
   "metadata": {
    "collapsed": true,
    "ExecuteTime": {
     "end_time": "2024-06-04T01:34:48.221571Z",
     "start_time": "2024-06-04T01:34:47.925404Z"
    }
   },
   "source": [
    "%matplotlib inline\n",
    "import sys\n",
    "from collections import defaultdict\n",
    "\n",
    "if \"../\" not in sys.path:\n",
    "    sys.path.append(\"../\")\n",
    "    \n",
    "import numpy as np\n",
    "from lib.envs.blackjack import BlackjackEnv\n",
    "from lib.utils.draw import show_policy_black,show_value_function\n",
    "import matplotlib\n",
    "\n",
    "\n",
    "env = BlackjackEnv()"
   ],
   "execution_count": 1,
   "outputs": []
  },
  {
   "metadata": {
    "ExecuteTime": {
     "end_time": "2024-06-04T01:34:48.237279Z",
     "start_time": "2024-06-04T01:34:48.222076Z"
    }
   },
   "cell_type": "code",
   "source": [
    "def get_epsilon_policy(Q,nA,epsilon):\n",
    "    \n",
    "    def policy_fn(observation):\n",
    "        A = np.ones(nA) * epsilon / nA\n",
    "        best_action = np.argmax(Q[observation])\n",
    "        A[best_action] += (1 - epsilon)\n",
    "        return A\n",
    "    return policy_fn"
   ],
   "id": "e40fbdebc3ccb575",
   "execution_count": 2,
   "outputs": []
  },
  {
   "metadata": {
    "ExecuteTime": {
     "end_time": "2024-06-04T01:34:48.253012Z",
     "start_time": "2024-06-04T01:34:48.237279Z"
    }
   },
   "cell_type": "code",
   "source": [
    "def on_policy_first_visit_episode(env,num_episodes,gamma=1.0,epsilon=0.1):\n",
    "    \n",
    "    returns_sum = defaultdict(float)\n",
    "    returns_count = defaultdict(float)\n",
    "    \n",
    "    Q = defaultdict(lambda: np.zeros(env.action_space.n))\n",
    "    \n",
    "    policy = get_epsilon_policy(Q,env.nA,epsilon)\n",
    "    \n",
    "    for i_episode in range(num_episodes):\n",
    "        if i_episode % 1000 == 0:\n",
    "            print(f\"\\rEpisode :{i_episode/num_episodes * 100:.2f}%\",end = \"\")\n",
    "            sys.stdout.flush()\n",
    "        \n",
    "        state = env.reset()\n",
    "        stack_state_action = []\n",
    "        stack_reward = []\n",
    "        \n",
    "        while True:\n",
    "            probs = policy(state)\n",
    "            action = np.random.choice( range(len(probs)), p=probs )\n",
    "            next_state, reward, done,_ = env.step(action)\n",
    "            stack_state_action.append( (state,action) )\n",
    "            stack_reward.append(reward)\n",
    "            if done:\n",
    "                break\n",
    "            state = next_state\n",
    "        size = len(stack_state_action)\n",
    "        G = 0\n",
    "        for i in range(size-1,-1,-1):\n",
    "            state, action = stack_state_action[i]\n",
    "            state = tuple(state)\n",
    "            key = (state, action)\n",
    "            \n",
    "            G = gamma * G + stack_reward[i]\n",
    "            if stack_state_action[i] not in stack_state_action[0:i]:\n",
    "                returns_sum[key] += G\n",
    "                returns_count[key] += 1\n",
    "                Q[state][action] =  returns_sum[key] / returns_count[key]\n",
    "    return Q,policy\n",
    "    "
   ],
   "id": "4c8e72d31e392e69",
   "execution_count": 3,
   "outputs": []
  },
  {
   "metadata": {
    "ExecuteTime": {
     "end_time": "2024-06-04T01:35:12.955135Z",
     "start_time": "2024-06-04T01:34:48.253518Z"
    }
   },
   "cell_type": "code",
   "source": "Q, policy = on_policy_first_visit_episode(env,num_episodes=500000,gamma=1.0,epsilon=0.1)",
   "id": "db71a79b49a5d6d2",
   "execution_count": 4,
   "outputs": []
  },
  {
   "metadata": {
    "ExecuteTime": {
     "end_time": "2024-06-04T01:35:13.208342Z",
     "start_time": "2024-06-04T01:35:12.956142Z"
    }
   },
   "cell_type": "code",
   "source": [
    "V = defaultdict(float)\n",
    "for state, actions in Q.items():\n",
    "    action_value = np.max(actions)\n",
    "    V[state] = action_value\n",
    "show_value_function(V, title=\"Optimal Value Function\")"
   ],
   "id": "ca518fcb2de6f59a",
   "execution_count": 5,
   "outputs": []
  },
  {
   "metadata": {
    "ExecuteTime": {
     "end_time": "2024-06-04T01:35:13.287741Z",
     "start_time": "2024-06-04T01:35:13.208342Z"
    }
   },
   "cell_type": "code",
   "source": [
    "\n",
    "show_policy_black(policy,V)"
   ],
   "id": "6d1a3cf528be1356",
   "execution_count": 6,
   "outputs": []
  }
 ],
 "metadata": {
  "kernelspec": {
   "display_name": "Python 3",
   "language": "python",
   "name": "python3"
  },
  "language_info": {
   "codemirror_mode": {
    "name": "ipython",
    "version": 2
   },
   "file_extension": ".py",
   "mimetype": "text/x-python",
   "name": "python",
   "nbconvert_exporter": "python",
   "pygments_lexer": "ipython2",
   "version": "2.7.6"
  }
 },
 "nbformat": 4,
 "nbformat_minor": 5
}
