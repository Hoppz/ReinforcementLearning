{
 "cells": [
  {
   "metadata": {},
   "cell_type": "markdown",
   "source": "## off-policy Every-Visit MC Control with weighted importance sampling\n",
   "id": "644cd8fc4c23dd22"
  },
  {
   "metadata": {
    "ExecuteTime": {
     "end_time": "2024-06-05T01:41:49.631457Z",
     "start_time": "2024-06-05T01:41:49.308626Z"
    }
   },
   "cell_type": "code",
   "source": [
    "%matplotlib inline\n",
    "import sys\n",
    "from collections import defaultdict\n",
    "\n",
    "if \"../\" not in sys.path:\n",
    "    sys.path.append(\"../\")\n",
    "    \n",
    "import numpy as np\n",
    "from lib.envs.blackjack import BlackjackEnv\n",
    "from lib.utils.draw import show_policy_black,show_value_function\n",
    "import matplotlib\n",
    "\n",
    "env = BlackjackEnv()"
   ],
   "id": "f2d7d46fa2f60b96",
   "execution_count": 1,
   "outputs": []
  },
  {
   "metadata": {
    "ExecuteTime": {
     "end_time": "2024-06-05T01:41:49.647642Z",
     "start_time": "2024-06-05T01:41:49.631457Z"
    }
   },
   "cell_type": "code",
   "source": [
    "def create_average_policy(nA):\n",
    "    A = np.ones(nA,dtype=float) / nA\n",
    "    def policy_fn(observation):\n",
    "        return A\n",
    "    return policy_fn"
   ],
   "id": "b8013c3a5dd2aac7",
   "execution_count": 2,
   "outputs": []
  },
  {
   "metadata": {
    "ExecuteTime": {
     "end_time": "2024-06-05T01:41:49.661997Z",
     "start_time": "2024-06-05T01:41:49.647855Z"
    }
   },
   "cell_type": "code",
   "source": [
    "def create_greed_policy(Q):\n",
    "    \n",
    "    def policy_fn(observation):\n",
    "        A = np.zeros_like(Q[observation],dtype=float)\n",
    "        best_action = np.argmax(Q[observation])\n",
    "        A[best_action] = 1.0\n",
    "        return A\n",
    "    return policy_fn"
   ],
   "id": "6cc87bcd9c13a84",
   "execution_count": 3,
   "outputs": []
  },
  {
   "metadata": {
    "ExecuteTime": {
     "end_time": "2024-06-05T01:41:49.677860Z",
     "start_time": "2024-06-05T01:41:49.661997Z"
    }
   },
   "cell_type": "code",
   "source": [
    "def mc_control_weighted(env,num_episodes,behavior_policy,gamma=1.0):\n",
    "    \n",
    "    Q = defaultdict(lambda: np.zeros(env.action_space.n))\n",
    "    C = defaultdict(lambda: np.zeros(env.action_space.n))\n",
    "    \n",
    "    target_policy = create_greed_policy(Q)\n",
    "\n",
    "    for i_episode in range(num_episodes):    \n",
    "        if i_episode % 1000 == 0:\n",
    "            print(f\"\\rEpisode :{i_episode/num_episodes * 100:.2f}%\",end = \"\")\n",
    "            sys.stdout.flush()\n",
    "        \n",
    "        state = env.reset()\n",
    "        stack_state_action = []\n",
    "        stack_reward = []\n",
    "        \n",
    "        while True:\n",
    "            probs = behavior_policy(state)\n",
    "            action = np.random.choice((range(len(probs))),p=probs)\n",
    "            next_state, reward, done, _ = env.step(action)\n",
    "            stack_state_action.append((state, action))\n",
    "            stack_reward.append(reward)\n",
    "            if done:\n",
    "                break\n",
    "            state = next_state\n",
    "            \n",
    "        size = len(stack_state_action)\n",
    "        G = 0\n",
    "        W = 1.0\n",
    "        for i in range(size-1,-1,-1):\n",
    "            state,action = stack_state_action[i]\n",
    "            state = tuple(state)\n",
    "            key = (state, action)\n",
    "            \n",
    "            G = gamma*G + stack_reward[i]\n",
    "            \n",
    "            C[state][action] += W\n",
    "            Q[state][action] = Q[state][action] + (W / C[state][action]) * (G - Q[state][action])\n",
    "            \n",
    "            # 当 target 不是最优的时候为 0\n",
    "            # W = 0 后面的所有都为 0 了就不用算了\n",
    "            if action != np.argmax(target_policy(state)):\n",
    "                break\n",
    "            # 当 target 为最优的时候选择的概率为 1\n",
    "            # 所以分子为 1.0 \n",
    "            W = W * 1.0/behavior_policy(state)[action]\n",
    "    return Q,target_policy"
   ],
   "id": "26e7181ac3ded9eb",
   "execution_count": 4,
   "outputs": []
  },
  {
   "metadata": {
    "ExecuteTime": {
     "end_time": "2024-06-05T01:42:14.290784Z",
     "start_time": "2024-06-05T01:41:49.677860Z"
    }
   },
   "cell_type": "code",
   "source": [
    "average_policy = create_average_policy(env.nA)\n",
    "Q, policy = mc_control_weighted(env, num_episodes=500000,behavior_policy=average_policy)\n",
    "V = defaultdict(float)\n",
    "for state, actions in Q.items():\n",
    "    action_value = np.max(actions)\n",
    "    V[state] = action_value\n",
    "show_value_function(V, title=\"10,000 Steps\")"
   ],
   "id": "8ef51efe3671405",
   "execution_count": 5,
   "outputs": []
  },
  {
   "metadata": {
    "ExecuteTime": {
     "end_time": "2024-06-05T01:42:14.386512Z",
     "start_time": "2024-06-05T01:42:14.291707Z"
    }
   },
   "cell_type": "code",
   "source": [
    "\n",
    "show_policy_black(policy,V)"
   ],
   "id": "7142e540d64a7b1d",
   "execution_count": 6,
   "outputs": []
  }
 ],
 "metadata": {
  "kernelspec": {
   "display_name": "Python 3",
   "language": "python",
   "name": "python3"
  },
  "language_info": {
   "codemirror_mode": {
    "name": "ipython",
    "version": 2
   },
   "file_extension": ".py",
   "mimetype": "text/x-python",
   "name": "python",
   "nbconvert_exporter": "python",
   "pygments_lexer": "ipython2",
   "version": "2.7.6"
  }
 },
 "nbformat": 4,
 "nbformat_minor": 5
}
