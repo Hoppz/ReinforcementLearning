{
 "cells": [
  {
   "cell_type": "code",
   "id": "initial_id",
   "metadata": {
    "collapsed": true,
    "ExecuteTime": {
     "end_time": "2024-06-06T07:39:34.739292Z",
     "start_time": "2024-06-06T07:39:34.672514Z"
    }
   },
   "source": [
    "%matplotlib inline\n",
    "import sys\n",
    "from collections import defaultdict\n",
    "\n",
    "if \"../\" not in sys.path:\n",
    "    sys.path.append(\"../\")\n",
    "    \n",
    "import numpy as np\n",
    "from lib.envs.GridEnv import Env\n",
    "from lib.utils.draw import show_grid,show_policy,draw_line\n",
    "import matplotlib\n",
    "# nice seed ! \n",
    "# env = Env( (20, 20),p=0.4,seed=5,punish=-100)\n",
    "env = Env( (20, 20),p=0.4,seed=5,punish=-100)"
   ],
   "execution_count": 46,
   "outputs": []
  },
  {
   "metadata": {
    "ExecuteTime": {
     "end_time": "2024-06-06T07:39:34.755113Z",
     "start_time": "2024-06-06T07:39:34.739292Z"
    }
   },
   "cell_type": "code",
   "source": [
    "def get_epsilon_policy(Q,nA,num_episodes):\n",
    "    \n",
    "    # 逐渐递减的 eps\n",
    "    explore_frac = 0.1\n",
    "    epsilon = lambda i: 1 - 0.99 * min(1, i / (num_episodes * explore_frac))\n",
    "\n",
    "    def policy_fn(observation,i_episode):\n",
    "        # eps = epsilon(i_episode)\n",
    "        # 全随机探索\n",
    "        eps = 0.1\n",
    "        A = np.ones(nA) * eps / nA\n",
    "        best_action = np.argmax(Q[observation])\n",
    "        A[best_action] += (1 - eps)\n",
    "        return A\n",
    "    return policy_fn"
   ],
   "id": "a396011229708d17",
   "execution_count": 47,
   "outputs": []
  },
  {
   "metadata": {
    "ExecuteTime": {
     "end_time": "2024-06-06T07:39:34.770672Z",
     "start_time": "2024-06-06T07:39:34.755618Z"
    }
   },
   "cell_type": "code",
   "source": [
    "def Q_learning_TD_control(env,num_episodes,gamma=0.9,alpha =0.5):\n",
    "    \n",
    "    Q = np.zeros( (env.observation_size,env.action_size) )\n",
    "    policy = get_epsilon_policy(Q,env.action_size,num_episodes)\n",
    "    \n",
    "    last_step = 0   \n",
    "    stats = defaultdict(lambda: [])\n",
    "    for i_episode in range(num_episodes):\n",
    "        if i_episode % 10 == 0:\n",
    "            #\\r 实现动态更新\n",
    "            print(f\"\\r Episode :{i_episode/num_episodes * 100:.2f}%  last step: {last_step:4}\",end = \"\")\n",
    "            sys.stdout.flush()\n",
    "        last_step = 0\n",
    "        total_reward = 0\n",
    "        # \n",
    "        state = env.reset()\n",
    "\n",
    "        \n",
    "        while True:\n",
    "            last_step += 1\n",
    "            action_probs = policy(state,i_episode)\n",
    "            action = np.random.choice(np.arange(len(action_probs)), p=action_probs)\n",
    "            next_state, reward, done = env.step(action)\n",
    "\n",
    "\n",
    "            # TD update\n",
    "            best_action = np.argmax(Q[next_state])\n",
    "            td_target = reward + gamma * Q[next_state][best_action]\n",
    "            td_error = td_target - Q[state][action]\n",
    "            Q[state][action] += alpha * td_error\n",
    "            \n",
    "            total_reward += reward\n",
    "            if done:\n",
    "                break\n",
    "            state = next_state\n",
    "        # stats information\n",
    "        stats['steps'].append(last_step)\n",
    "        stats['rewards'].append(total_reward)\n",
    "    \n",
    "    return Q,stats"
   ],
   "id": "6cd39327751e32d6",
   "execution_count": 48,
   "outputs": []
  },
  {
   "metadata": {
    "ExecuteTime": {
     "end_time": "2024-06-06T07:39:36.557354Z",
     "start_time": "2024-06-06T07:39:34.772170Z"
    }
   },
   "cell_type": "code",
   "source": [
    "show_grid(env,env.grid)\n",
    "num_episodes = 300\n",
    "Q,stats = Q_learning_TD_control(env,num_episodes=num_episodes,gamma=0.99,alpha=1)\n",
    "V = np.zeros( env.observation_size )\n",
    "policy = np.zeros_like(Q)\n",
    "for i in range(len(V)):\n",
    "    best_action = np.argmax(Q[i])\n",
    "    V[i] = Q[i][best_action]\n",
    "    policy[i][best_action] = 1\n",
    "show_policy(env,policy)\n",
    "draw_line(stats)\n"
   ],
   "id": "d7445b82ccb39f9b",
   "execution_count": 49,
   "outputs": []
  },
  {
   "metadata": {
    "ExecuteTime": {
     "end_time": "2024-06-06T07:39:37.104313Z",
     "start_time": "2024-06-06T07:39:36.557354Z"
    }
   },
   "cell_type": "code",
   "source": "show_grid(env,V)",
   "id": "722a858de10fd6bb",
   "execution_count": 50,
   "outputs": []
  },
  {
   "metadata": {
    "ExecuteTime": {
     "end_time": "2024-06-06T07:39:37.120361Z",
     "start_time": "2024-06-06T07:39:37.104313Z"
    }
   },
   "cell_type": "code",
   "source": "",
   "id": "36cd4e93d82f329a",
   "execution_count": 50,
   "outputs": []
  }
 ],
 "metadata": {
  "kernelspec": {
   "display_name": "Python 3",
   "language": "python",
   "name": "python3"
  },
  "language_info": {
   "codemirror_mode": {
    "name": "ipython",
    "version": 2
   },
   "file_extension": ".py",
   "mimetype": "text/x-python",
   "name": "python",
   "nbconvert_exporter": "python",
   "pygments_lexer": "ipython2",
   "version": "2.7.6"
  }
 },
 "nbformat": 4,
 "nbformat_minor": 5
}
