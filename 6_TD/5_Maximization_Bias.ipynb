{
 "cells": [
  {
   "metadata": {},
   "cell_type": "markdown",
   "source": "Q learning ",
   "id": "5caddb30e1daaa51"
  },
  {
   "metadata": {
    "ExecuteTime": {
     "end_time": "2024-06-05T11:49:08.970899Z",
     "start_time": "2024-06-05T11:49:08.956391Z"
    }
   },
   "cell_type": "code",
   "source": [
    "from lib.envs.MaxBiasMDP import MDP\n",
    "from lib.utils.draw import draw_line\n",
    "import numpy as np\n",
    "%matplotlib inline\n",
    "import sys\n",
    "from collections import defaultdict\n",
    "\n",
    "if \"../\" not in sys.path:\n",
    "    sys.path.append(\"../\")\n",
    "    \n"
   ],
   "id": "13b1e4dce3ac1863",
   "execution_count": 58,
   "outputs": []
  },
  {
   "metadata": {
    "ExecuteTime": {
     "end_time": "2024-06-05T11:49:08.986560Z",
     "start_time": "2024-06-05T11:49:08.971553Z"
    }
   },
   "cell_type": "code",
   "source": [
    "def get_epsilon_policy(Q,nA,epsilon):\n",
    "\n",
    "    def policy_fn(observation):\n",
    "        A = np.ones(nA) * epsilon / nA\n",
    "        best_action = np.argmax(Q[observation])\n",
    "        A[best_action] += (1 - epsilon)\n",
    "        return A\n",
    "    return policy_fn"
   ],
   "id": "768ba7009ee5a621",
   "execution_count": 59,
   "outputs": []
  },
  {
   "metadata": {
    "ExecuteTime": {
     "end_time": "2024-06-05T11:49:09.002541Z",
     "start_time": "2024-06-05T11:49:08.987566Z"
    }
   },
   "cell_type": "code",
   "source": [
    "def Q_learning_TD_control(env,num_episodes,gamma=0.9,alpha =0.5):\n",
    "    \n",
    "    Q = np.zeros( (env.nS,env.nA) )\n",
    "    policy = get_epsilon_policy(Q,env.nA,0.1)\n",
    "    \n",
    "    last_step = 0   \n",
    "    stats = defaultdict(lambda: [])\n",
    "    cnt_left = 0\n",
    "    cnt_right = 1\n",
    "    for i_episode in range(num_episodes):\n",
    "        last_step = 0\n",
    "        total_reward = 0\n",
    "\n",
    "        # \n",
    "        state = env.reset()\n",
    "\n",
    "        \n",
    "        while True:\n",
    "            \n",
    "            # experience\n",
    "            action_probs = policy(state)\n",
    "            action = np.random.choice(np.arange(len(action_probs)), p=action_probs)\n",
    "            next_state, reward, done = env.step(action)\n",
    "           # print(f\"state: {state}, action: {action}, next_state: {next_state}, reward: {reward}, done: {done}\")\n",
    "            # stats\n",
    "            last_step += 1\n",
    "            if action == 0:\n",
    "                cnt_left += 1\n",
    "            else :\n",
    "                cnt_right += 1\n",
    "            \n",
    "\n",
    "            # TD update\n",
    "            best_action = np.argmax(Q[next_state])\n",
    "            td_target = reward + gamma * Q[next_state][best_action]\n",
    "            td_error = td_target - Q[state][action]\n",
    "            Q[state][action] += alpha * td_error\n",
    "            \n",
    "            total_reward += reward\n",
    "            if done:\n",
    "                break\n",
    "            state = next_state\n",
    "        # stats information\n",
    "        stats['steps'].append(last_step)\n",
    "        stats['rewards'].append(total_reward)\n",
    "        stats['ratio'].append( (cnt_left - cnt_right) / cnt_right )\n",
    "    \n",
    "    return Q,stats"
   ],
   "id": "2e073e7725a60193",
   "execution_count": 60,
   "outputs": []
  },
  {
   "metadata": {
    "ExecuteTime": {
     "end_time": "2024-06-05T11:49:30.689890Z",
     "start_time": "2024-06-05T11:49:09.002541Z"
    }
   },
   "cell_type": "code",
   "source": [
    "sum = np.zeros(100)\n",
    "\n",
    "total_range = 1000\n",
    "\n",
    "for i in range(total_range):\n",
    "    if i % 10 == 0:\n",
    "        #\\r 实现动态更新\n",
    "        print(f\"\\r Episode :{i/total_range * 100:.2f}% \",end = \"\")\n",
    "        sys.stdout.flush()\n",
    "    env = MDP(i)\n",
    "    num_episodes = 100\n",
    "    Q,stats = Q_learning_TD_control(env,num_episodes=num_episodes,gamma=1,alpha=0.1)\n",
    "    sum += stats['ratio']\n",
    "sum /= total_range\n"
   ],
   "id": "206173a82dafe2e1",
   "execution_count": 61,
   "outputs": []
  },
  {
   "metadata": {
    "ExecuteTime": {
     "end_time": "2024-06-05T11:49:30.768912Z",
     "start_time": "2024-06-05T11:49:30.689890Z"
    }
   },
   "cell_type": "code",
   "source": [
    "import matplotlib.pyplot as plt\n",
    "import matplotlib\n",
    "fig3 = plt.figure(figsize=(10, 5))\n",
    "plt.plot(sum)\n",
    "plt.xlabel(\"Episode\")\n",
    "plt.ylabel(\"Left ratio\")\n",
    "plt.title(\"Episode Length over Time\")\n",
    "plt.show(fig3)"
   ],
   "id": "9b702735ed0bf46a",
   "execution_count": 62,
   "outputs": []
  },
  {
   "metadata": {
    "ExecuteTime": {
     "end_time": "2024-06-05T11:49:30.785044Z",
     "start_time": "2024-06-05T11:49:30.768912Z"
    }
   },
   "cell_type": "code",
   "source": "",
   "id": "2518e857091a594b",
   "execution_count": 62,
   "outputs": []
  },
  {
   "metadata": {
    "ExecuteTime": {
     "end_time": "2024-06-05T11:49:30.800425Z",
     "start_time": "2024-06-05T11:49:30.785942Z"
    }
   },
   "cell_type": "code",
   "source": "",
   "id": "bc4c1ac91b456efb",
   "execution_count": 62,
   "outputs": []
  },
  {
   "metadata": {
    "ExecuteTime": {
     "end_time": "2024-06-05T11:49:30.809516Z",
     "start_time": "2024-06-05T11:49:30.801696Z"
    }
   },
   "cell_type": "code",
   "source": "",
   "id": "e7420129decd0733",
   "execution_count": 62,
   "outputs": []
  }
 ],
 "metadata": {
  "kernelspec": {
   "display_name": "Python 3",
   "language": "python",
   "name": "python3"
  },
  "language_info": {
   "codemirror_mode": {
    "name": "ipython",
    "version": 2
   },
   "file_extension": ".py",
   "mimetype": "text/x-python",
   "name": "python",
   "nbconvert_exporter": "python",
   "pygments_lexer": "ipython2",
   "version": "2.7.6"
  }
 },
 "nbformat": 4,
 "nbformat_minor": 5
}
