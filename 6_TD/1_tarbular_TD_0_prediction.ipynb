{
 "cells": [
  {
   "metadata": {},
   "cell_type": "markdown",
   "source": "## GridEnv",
   "id": "d14bbfa9e567684c"
  },
  {
   "metadata": {
    "ExecuteTime": {
     "end_time": "2024-06-05T01:42:29.860888Z",
     "start_time": "2024-06-05T01:42:29.845335Z"
    }
   },
   "cell_type": "code",
   "source": [
    "%matplotlib inline\n",
    "import sys\n",
    "from collections import defaultdict\n",
    "\n",
    "if \"../\" not in sys.path:\n",
    "    sys.path.append(\"../\")\n",
    "    \n",
    "import numpy as np\n",
    "from lib.envs.GridEnv import Env\n",
    "from lib.utils.draw import show_grid\n",
    "import matplotlib\n",
    "\n",
    "env = Env((5,5),p=0.5,seed=5,punish=-10)"
   ],
   "id": "9282e33f752a8a7f",
   "outputs": [],
   "execution_count": 9
  },
  {
   "metadata": {
    "ExecuteTime": {
     "end_time": "2024-06-05T01:42:29.873322Z",
     "start_time": "2024-06-05T01:42:29.862396Z"
    }
   },
   "cell_type": "code",
   "source": [
    "def sample_policy(observation):\n",
    "    return np.random.randint(0,4)"
   ],
   "id": "5c6637812a12472",
   "outputs": [],
   "execution_count": 10
  },
  {
   "metadata": {
    "ExecuteTime": {
     "end_time": "2024-06-05T01:42:29.889746Z",
     "start_time": "2024-06-05T01:42:29.874042Z"
    }
   },
   "cell_type": "code",
   "source": [
    "def TD0_prediction(env,policy,num_episodes,gamma=0.9,alpha =0.1):\n",
    "    \n",
    "    V = defaultdict(float)\n",
    "    V_count = defaultdict(float)\n",
    "    for i_episode in range(num_episodes):\n",
    "        if i_episode % 100 == 0:\n",
    "            # \\r 实现动态更新\n",
    "            print(f\"\\rEpisode :{i_episode}/{num_episodes}\",end = \"\")\n",
    "            sys.stdout.flush()\n",
    "        \n",
    "        state = env.reset()\n",
    "        while True:\n",
    "            action = policy(state)\n",
    "            next_state, reward, done = env.step(action)\n",
    "            V_count[state] += 1.0\n",
    "            V[state] = V[state] + (1 / V_count[state]) * ( reward + gamma * V[next_state] - V[state] )\n",
    "            \n",
    "            if done:\n",
    "                break\n",
    "    \n",
    "    return V"
   ],
   "id": "9eadbfd6fc176c8c",
   "outputs": [],
   "execution_count": 11
  },
  {
   "metadata": {
    "ExecuteTime": {
     "end_time": "2024-06-05T01:42:30.205046Z",
     "start_time": "2024-06-05T01:42:29.889746Z"
    }
   },
   "cell_type": "code",
   "source": [
    "V = TD0_prediction(env,sample_policy, num_episodes=1000)\n",
    "\n",
    "print(\"原始图像\")\n",
    "show_grid(env,env.grid)"
   ],
   "id": "c6a2e00be00b5290",
   "outputs": [
    {
     "name": "stdout",
     "output_type": "stream",
     "text": [
      "Episode :900/1000原始图像\n"
     ]
    },
    {
     "data": {
      "text/plain": [
       "<Figure size 500x500 with 1 Axes>"
      ],
      "image/png": "[encoded data removed]"
     },
     "metadata": {},
     "output_type": "display_data"
    }
   ],
   "execution_count": 12
  },
  {
   "metadata": {},
   "cell_type": "markdown",
   "source": "## 为什么会得到这样的结果？TD 与 MC 的作用范围是怎么样的？",
   "id": "7d5955a6a760af15"
  },
  {
   "metadata": {
    "ExecuteTime": {
     "end_time": "2024-06-05T01:42:30.219073Z",
     "start_time": "2024-06-05T01:42:30.206052Z"
    }
   },
   "cell_type": "code",
   "source": "",
   "id": "92577db8fa5286bd",
   "outputs": [],
   "execution_count": 12
  },
  {
   "metadata": {
    "ExecuteTime": {
     "end_time": "2024-06-05T01:42:30.235110Z",
     "start_time": "2024-06-05T01:42:30.219073Z"
    }
   },
   "cell_type": "code",
   "source": "",
   "id": "ab1c76c9631ef9e0",
   "outputs": [],
   "execution_count": 12
  },
  {
   "metadata": {
    "ExecuteTime": {
     "end_time": "2024-06-05T01:42:30.251122Z",
     "start_time": "2024-06-05T01:42:30.235110Z"
    }
   },
   "cell_type": "code",
   "source": "",
   "id": "ffd467f2e6ce1c04",
   "outputs": [],
   "execution_count": 12
  },
  {
   "metadata": {
    "ExecuteTime": {
     "end_time": "2024-06-05T01:42:30.267571Z",
     "start_time": "2024-06-05T01:42:30.251122Z"
    }
   },
   "cell_type": "code",
   "source": "",
   "id": "e18f9c426a55a922",
   "outputs": [],
   "execution_count": 12
  }
 ],
 "metadata": {
  "kernelspec": {
   "display_name": "Python 3",
   "language": "python",
   "name": "python3"
  },
  "language_info": {
   "codemirror_mode": {
    "name": "ipython",
    "version": 2
   },
   "file_extension": ".py",
   "mimetype": "text/x-python",
   "name": "python",
   "nbconvert_exporter": "python",
   "pygments_lexer": "ipython2",
   "version": "2.7.6"
  }
 },
 "nbformat": 4,
 "nbformat_minor": 5
}
