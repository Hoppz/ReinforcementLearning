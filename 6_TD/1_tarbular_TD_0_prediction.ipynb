{
 "cells": [
  {
   "metadata": {},
   "cell_type": "markdown",
   "source": "## GridEnv",
   "id": "d14bbfa9e567684c"
  },
  {
   "metadata": {
    "ExecuteTime": {
     "end_time": "2024-06-05T02:41:12.513857Z",
     "start_time": "2024-06-05T02:41:12.265057Z"
    }
   },
   "cell_type": "code",
   "source": [
    "%matplotlib inline\n",
    "import sys\n",
    "from collections import defaultdict\n",
    "\n",
    "if \"../\" not in sys.path:\n",
    "    sys.path.append(\"../\")\n",
    "    \n",
    "import numpy as np\n",
    "from lib.envs.GridEnv import Env\n",
    "from lib.utils.draw import show_grid\n",
    "import matplotlib\n",
    "\n",
    "env = Env((5,5),p=0.5,seed=5,punish=-10)"
   ],
   "id": "9282e33f752a8a7f",
   "execution_count": 1,
   "outputs": []
  },
  {
   "metadata": {
    "ExecuteTime": {
     "end_time": "2024-06-05T02:41:12.529862Z",
     "start_time": "2024-06-05T02:41:12.513857Z"
    }
   },
   "cell_type": "code",
   "source": [
    "def sample_policy(observation):\n",
    "    return np.random.randint(0,4)"
   ],
   "id": "5c6637812a12472",
   "execution_count": 2,
   "outputs": []
  },
  {
   "metadata": {
    "ExecuteTime": {
     "end_time": "2024-06-05T02:41:12.545744Z",
     "start_time": "2024-06-05T02:41:12.531234Z"
    }
   },
   "cell_type": "code",
   "source": [
    "def TD0_prediction(env,policy,num_episodes,gamma=0.9,alpha =0.1):\n",
    "    \n",
    "    V = np.zeros( env.observation_size )\n",
    "    for i_episode in range(num_episodes):\n",
    "        if i_episode % 100 == 0:\n",
    "            # \\r 实现动态更新\n",
    "            print(f\"\\rEpisode :{i_episode}/{num_episodes}\",end = \"\")\n",
    "            sys.stdout.flush()\n",
    "        \n",
    "        state = env.reset()\n",
    "        while True:\n",
    "            action = policy(state)\n",
    "            next_state, reward, done = env.step(action)\n",
    "\n",
    "            V[state] = V[state] + alpha * ( reward + gamma * V[next_state] - V[state] )\n",
    "            \n",
    "            if done:\n",
    "                break\n",
    "            state = next_state\n",
    "    \n",
    "    return V"
   ],
   "id": "9eadbfd6fc176c8c",
   "execution_count": 3,
   "outputs": []
  },
  {
   "metadata": {
    "ExecuteTime": {
     "end_time": "2024-06-05T02:41:14.696966Z",
     "start_time": "2024-06-05T02:41:12.546424Z"
    }
   },
   "cell_type": "code",
   "source": [
    "V = TD0_prediction(env,sample_policy, num_episodes=10000)\n",
    "\n",
    "print(\"原始图像\")\n",
    "show_grid(env,V)"
   ],
   "id": "c6a2e00be00b5290",
   "execution_count": 4,
   "outputs": []
  },
  {
   "metadata": {},
   "cell_type": "markdown",
   "source": "## 为什么会得到这样的结果？TD 与 MC 的作用范围是怎么样的？",
   "id": "7d5955a6a760af15"
  },
  {
   "metadata": {
    "ExecuteTime": {
     "end_time": "2024-06-05T02:41:14.712977Z",
     "start_time": "2024-06-05T02:41:14.696966Z"
    }
   },
   "cell_type": "code",
   "source": "",
   "id": "92577db8fa5286bd",
   "execution_count": 4,
   "outputs": []
  },
  {
   "metadata": {
    "ExecuteTime": {
     "end_time": "2024-06-05T02:41:14.718565Z",
     "start_time": "2024-06-05T02:41:14.712977Z"
    }
   },
   "cell_type": "code",
   "source": "",
   "id": "ab1c76c9631ef9e0",
   "execution_count": 4,
   "outputs": []
  },
  {
   "metadata": {
    "ExecuteTime": {
     "end_time": "2024-06-05T02:41:14.734260Z",
     "start_time": "2024-06-05T02:41:14.719217Z"
    }
   },
   "cell_type": "code",
   "source": "",
   "id": "ffd467f2e6ce1c04",
   "execution_count": 4,
   "outputs": []
  },
  {
   "metadata": {
    "ExecuteTime": {
     "end_time": "2024-06-05T02:41:14.750274Z",
     "start_time": "2024-06-05T02:41:14.734260Z"
    }
   },
   "cell_type": "code",
   "source": "",
   "id": "e18f9c426a55a922",
   "execution_count": 4,
   "outputs": []
  }
 ],
 "metadata": {
  "kernelspec": {
   "display_name": "Python 3",
   "language": "python",
   "name": "python3"
  },
  "language_info": {
   "codemirror_mode": {
    "name": "ipython",
    "version": 2
   },
   "file_extension": ".py",
   "mimetype": "text/x-python",
   "name": "python",
   "nbconvert_exporter": "python",
   "pygments_lexer": "ipython2",
   "version": "2.7.6"
  }
 },
 "nbformat": 4,
 "nbformat_minor": 5
}
