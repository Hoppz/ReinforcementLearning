{
 "cells": [
  {
   "cell_type": "code",
   "id": "initial_id",
   "metadata": {
    "collapsed": true,
    "ExecuteTime": {
     "end_time": "2024-06-05T08:55:15.570249Z",
     "start_time": "2024-06-05T08:55:15.547333Z"
    }
   },
   "source": [
    "%matplotlib inline\n",
    "import sys\n",
    "from collections import defaultdict\n",
    "\n",
    "if \"../\" not in sys.path:\n",
    "    sys.path.append(\"../\")\n",
    "    \n",
    "import numpy as np\n",
    "from lib.envs.GridEnv import Env\n",
    "from lib.utils.draw import show_grid,show_policy,draw_line\n",
    "import matplotlib\n",
    "\n",
    "env = Env( (10, 10),p=0.4,seed=6,punish=-10)"
   ],
   "execution_count": 7,
   "outputs": []
  },
  {
   "metadata": {
    "ExecuteTime": {
     "end_time": "2024-06-05T08:55:15.586263Z",
     "start_time": "2024-06-05T08:55:15.570249Z"
    }
   },
   "cell_type": "code",
   "source": [
    "def get_epsilon_policy(Q,nA,num_episodes):\n",
    "    \n",
    "    # 逐渐递减的 eps\n",
    "    explore_frac = 0.1\n",
    "    epsilon = lambda i: 1 - 0.99 * min(1, i / (num_episodes * explore_frac))\n",
    "\n",
    "    def policy_fn(observation,i_episode):\n",
    "        # eps = epsilon(i_episode)\n",
    "        eps = 0\n",
    "        A = np.ones(nA) * eps / nA\n",
    "        best_action = np.argmax(Q[observation])\n",
    "        A[best_action] += (1 - eps)\n",
    "        return A\n",
    "    return policy_fn"
   ],
   "id": "cdfcd4f18a5d0307",
   "execution_count": 8,
   "outputs": []
  },
  {
   "metadata": {
    "ExecuteTime": {
     "end_time": "2024-06-05T08:55:15.602003Z",
     "start_time": "2024-06-05T08:55:15.586263Z"
    }
   },
   "cell_type": "code",
   "source": [
    "def get_action(policy,state):\n",
    "    probs = policy(state)\n",
    "    action = np.random.choice(range(len(probs)), p=probs)\n",
    "    return action"
   ],
   "id": "68a1368f6194c9b7",
   "execution_count": 9,
   "outputs": []
  },
  {
   "metadata": {
    "ExecuteTime": {
     "end_time": "2024-06-05T08:55:15.618025Z",
     "start_time": "2024-06-05T08:55:15.602003Z"
    }
   },
   "cell_type": "code",
   "source": [
    "def Sarsa_TD_control(env,num_episodes,gamma=0.9,alpha =0.5):\n",
    "    \n",
    "    Q = np.zeros( (env.observation_size,env.action_size) )\n",
    "    policy = get_epsilon_policy(Q,env.action_size,num_episodes)\n",
    "    \n",
    "    last_step = 0   \n",
    "    stats = defaultdict(lambda: [])\n",
    "    for i_episode in range(num_episodes):\n",
    "        if i_episode % 10 == 0:\n",
    "            #\\r 实现动态更新\n",
    "            print(f\"\\r Episode :{i_episode/num_episodes * 100:.2f}%  last step: {last_step:4}\",end = \"\")\n",
    "            sys.stdout.flush()\n",
    "        last_step = 0\n",
    "        total_reward = 0\n",
    "        # \n",
    "        state = env.reset()\n",
    "        action_probs = policy(state,i_episode)\n",
    "        action = np.random.choice(np.arange(len(action_probs)), p=action_probs)\n",
    "        \n",
    "        while True:\n",
    "            last_step += 1\n",
    "            next_state, reward, done = env.step(action)\n",
    "            next_action_probs = policy(next_state,i_episode)\n",
    "            next_action = np.random.choice(np.arange(len(next_action_probs)), p=next_action_probs)\n",
    "           # print(state,action,reward,next_action)\n",
    "            # TD update\n",
    "            best_action = np.argmax(Q[next_state])\n",
    "            td_target = reward + gamma * Q[next_state][best_action]\n",
    "            td_error = td_target - Q[state][action]\n",
    "            Q[state][action] += alpha * td_error\n",
    "            \n",
    "            total_reward += reward\n",
    "            if done:\n",
    "                break\n",
    "            state, action = next_state, next_action\n",
    "        # stats information\n",
    "        stats['steps'].append(last_step)\n",
    "        stats['rewards'].append(total_reward)\n",
    "    \n",
    "    return Q,stats"
   ],
   "id": "702e15106cd94a78",
   "execution_count": 10,
   "outputs": []
  },
  {
   "metadata": {
    "ExecuteTime": {
     "end_time": "2024-06-05T08:55:16.354339Z",
     "start_time": "2024-06-05T08:55:15.618025Z"
    }
   },
   "cell_type": "code",
   "source": [
    "show_grid(env,env.grid)\n",
    "num_episodes = 500\n",
    "Q,stats = Sarsa_TD_control(env,num_episodes=num_episodes,gamma=0.99,alpha=0.3)\n",
    "V = np.zeros( env.observation_size )\n",
    "policy = np.zeros_like(Q)\n",
    "for i in range(len(V)):\n",
    "    best_action = np.argmax(Q[i])\n",
    "    V[i] = Q[i][best_action]\n",
    "    policy[i][best_action] = 1\n",
    "show_policy(env,policy)\n",
    "draw_line(stats)\n"
   ],
   "id": "8d9e366edda3af71",
   "execution_count": 11,
   "outputs": []
  },
  {
   "metadata": {
    "ExecuteTime": {
     "end_time": "2024-06-05T08:55:16.576555Z",
     "start_time": "2024-06-05T08:55:16.354339Z"
    }
   },
   "cell_type": "code",
   "source": "show_grid(env,V)",
   "id": "5e71db83144bb3b6",
   "execution_count": 12,
   "outputs": []
  },
  {
   "metadata": {
    "ExecuteTime": {
     "end_time": "2024-06-05T08:55:16.592579Z",
     "start_time": "2024-06-05T08:55:16.576555Z"
    }
   },
   "cell_type": "code",
   "source": "",
   "id": "13cd54b54758ef0c",
   "execution_count": 12,
   "outputs": []
  }
 ],
 "metadata": {
  "kernelspec": {
   "display_name": "Python 3",
   "language": "python",
   "name": "python3"
  },
  "language_info": {
   "codemirror_mode": {
    "name": "ipython",
    "version": 2
   },
   "file_extension": ".py",
   "mimetype": "text/x-python",
   "name": "python",
   "nbconvert_exporter": "python",
   "pygments_lexer": "ipython2",
   "version": "2.7.6"
  }
 },
 "nbformat": 4,
 "nbformat_minor": 5
}
