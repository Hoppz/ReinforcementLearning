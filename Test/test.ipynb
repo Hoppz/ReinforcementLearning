{
 "cells": [
  {
   "metadata": {},
   "cell_type": "raw",
   "source": "",
   "id": "4de6568258f1c901"
  },
  {
   "metadata": {},
   "cell_type": "markdown",
   "source": "",
   "id": "4cc2c0d7e5db4844"
  },
  {
   "metadata": {
    "ExecuteTime": {
     "end_time": "2024-05-31T06:15:05.190647Z",
     "start_time": "2024-05-31T06:15:05.097997Z"
    }
   },
   "cell_type": "code",
   "source": [
    "import sys \n",
    "\n",
    "if \"../\" not in sys.path:\n",
    "    sys.path.append(\"../\")\n",
    "\n",
    "\n",
    "from lib.envs.GridEnv import Env\n"
   ],
   "id": "cc90fe2cd05a1754",
   "execution_count": 1,
   "outputs": []
  },
  {
   "metadata": {
    "ExecuteTime": {
     "end_time": "2024-05-31T06:15:07.333049Z",
     "start_time": "2024-05-31T06:15:07.301330Z"
    }
   },
   "cell_type": "code",
   "source": [
    "env = Env(shape = (5,5), seed = 5, p = 0.5 )\n",
    "\n",
    "print ( env.grid )"
   ],
   "id": "94094e4bec114a11",
   "execution_count": 3,
   "outputs": []
  },
  {
   "metadata": {},
   "cell_type": "code",
   "execution_count": null,
   "source": "",
   "id": "ca3fcaf67ca3cae6",
   "outputs": []
  }
 ],
 "metadata": {
  "kernelspec": {
   "display_name": "Python 3",
   "language": "python",
   "name": "python3"
  },
  "language_info": {
   "codemirror_mode": {
    "name": "ipython",
    "version": 2
   },
   "file_extension": ".py",
   "mimetype": "text/x-python",
   "name": "python",
   "nbconvert_exporter": "python",
   "pygments_lexer": "ipython2",
   "version": "2.7.6"
  }
 },
 "nbformat": 4,
 "nbformat_minor": 5
}
