{
 "cells": [
  {
   "metadata": {},
   "cell_type": "raw",
   "source": "",
   "id": "4de6568258f1c901"
  },
  {
   "metadata": {},
   "cell_type": "markdown",
   "source": "",
   "id": "4cc2c0d7e5db4844"
  },
  {
   "metadata": {
    "ExecuteTime": {
     "end_time": "2024-05-31T06:15:05.190647Z",
     "start_time": "2024-05-31T06:15:05.097997Z"
    }
   },
   "cell_type": "code",
   "source": [
    "import sys \n",
    "\n",
    "if \"../\" not in sys.path:\n",
    "    sys.path.append(\"../\")\n",
    "\n",
    "\n",
    "from lib.envs.GridEnv import Env\n"
   ],
   "id": "cc90fe2cd05a1754",
   "execution_count": 1,
   "outputs": []
  },
  {
   "metadata": {
    "ExecuteTime": {
     "end_time": "2024-05-31T06:15:07.333049Z",
     "start_time": "2024-05-31T06:15:07.301330Z"
    }
   },
   "cell_type": "code",
   "source": [
    "env = Env(shape = (5,5), seed = 5, p = 0.5 )\n",
    "\n",
    "print ( env.grid )"
   ],
   "id": "94094e4bec114a11",
   "execution_count": 3,
   "outputs": []
  },
  {
   "metadata": {
    "ExecuteTime": {
     "end_time": "2024-06-03T09:24:57.348236Z",
     "start_time": "2024-06-03T09:24:57.312266Z"
    }
   },
   "cell_type": "code",
   "source": [
    "import numpy as np\n",
    "\n",
    "# 目标分布 p(x) 为标准正态分布\n",
    "def p(x):\n",
    "    return (1 / np.sqrt(2 * np.pi)) * np.exp(-0.5 * x**2)\n",
    "\n",
    "# 提议分布 q(x) 为均匀分布\n",
    "a = 3  # 提议分布的区间 [-a, a]\n",
    "def q(x):\n",
    "    return 1 / (2 * a) if -a <= x <= a else 0\n",
    "\n",
    "# 生成样本\n",
    "N = 10000\n",
    "samples = np.random.uniform(-a, a, N)\n",
    "\n",
    "# 计算权重\n",
    "weights = p(samples) / q(samples)\n",
    "\n",
    "# 归一化权重\n",
    "normalized_weights = weights / np.sum(weights)\n",
    "\n",
    "# 要估计的函数 f(x) = x^2\n",
    "f_samples = samples**2\n",
    "\n",
    "# 使用归一化权重估计期望值\n",
    "expectation_estimate = np.sum(f_samples * normalized_weights)\n",
    "\n",
    "print(f\"Estimated expectation (weighted importance sampling): {expectation_estimate}\")\n"
   ],
   "id": "ca3fcaf67ca3cae6",
   "execution_count": 2,
   "outputs": []
  },
  {
   "metadata": {},
   "cell_type": "code",
   "outputs": [],
   "execution_count": null,
   "source": "",
   "id": "da0c72348958d5de"
  },
  {
   "metadata": {
    "jupyter": {
     "is_executing": true
    }
   },
   "cell_type": "code",
   "source": [
    "import time\n",
    "from IPython.display import clear_output\n",
    "\n",
    "# 定义两个函数来打印和更新数据\n",
    "def print_lines(step, value1, value2):\n",
    "    clear_output(wait=True)\n",
    "    print(f'第1行：时间步长: {step}, 值: {value1:.4f}')\n",
    "    print(f'第2行：时间步长: {step}, 值: {value2:.4f}')\n",
    "\n",
    "# 模拟一些动态更新的数据\n",
    "nuce52 = 8e4\n",
    "number_timesteps = int(nuce52)\n",
    "explore_frac = 0.1\n",
    "\n",
    "epsilon = lambda i: 1 - 0.99 * min(1, i / (number_timesteps * explore_frac))\n",
    "\n",
    "for i in range(number_timesteps + 1):\n",
    "    current_epsilon = epsilon(i)\n",
    "    # 更新第1行和第2行\n",
    "    print_lines(i, current_epsilon, current_epsilon * 2)  # 这里只是举例，乘以2来显示不同的值\n",
    "    time.sleep(0.01)\n",
    "\n",
    "print('完成！')\n"
   ],
   "id": "567488fdf2121f57",
   "execution_count": null,
   "outputs": []
  }
 ],
 "metadata": {
  "kernelspec": {
   "display_name": "Python 3",
   "language": "python",
   "name": "python3"
  },
  "language_info": {
   "codemirror_mode": {
    "name": "ipython",
    "version": 2
   },
   "file_extension": ".py",
   "mimetype": "text/x-python",
   "name": "python",
   "nbconvert_exporter": "python",
   "pygments_lexer": "ipython2",
   "version": "2.7.6"
  }
 },
 "nbformat": 4,
 "nbformat_minor": 5
}
