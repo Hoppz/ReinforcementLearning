{
 "cells": [
  {
   "metadata": {},
   "cell_type": "raw",
   "source": "",
   "id": "4de6568258f1c901"
  },
  {
   "metadata": {},
   "cell_type": "markdown",
   "source": "",
   "id": "4cc2c0d7e5db4844"
  },
  {
   "metadata": {
    "ExecuteTime": {
     "end_time": "2024-05-31T06:15:05.190647Z",
     "start_time": "2024-05-31T06:15:05.097997Z"
    }
   },
   "cell_type": "code",
   "source": [
    "import sys \n",
    "\n",
    "if \"../\" not in sys.path:\n",
    "    sys.path.append(\"../\")\n",
    "\n",
    "\n",
    "from lib.envs.GridEnv import Env\n"
   ],
   "id": "cc90fe2cd05a1754",
   "execution_count": 1,
   "outputs": []
  },
  {
   "metadata": {
    "ExecuteTime": {
     "end_time": "2024-05-31T06:15:07.333049Z",
     "start_time": "2024-05-31T06:15:07.301330Z"
    }
   },
   "cell_type": "code",
   "source": [
    "env = Env(shape = (5,5), seed = 5, p = 0.5 )\n",
    "\n",
    "print ( env.grid )"
   ],
   "id": "94094e4bec114a11",
   "execution_count": 3,
   "outputs": []
  },
  {
   "metadata": {
    "ExecuteTime": {
     "end_time": "2024-06-03T09:24:57.348236Z",
     "start_time": "2024-06-03T09:24:57.312266Z"
    }
   },
   "cell_type": "code",
   "source": [
    "import numpy as np\n",
    "\n",
    "# 目标分布 p(x) 为标准正态分布\n",
    "def p(x):\n",
    "    return (1 / np.sqrt(2 * np.pi)) * np.exp(-0.5 * x**2)\n",
    "\n",
    "# 提议分布 q(x) 为均匀分布\n",
    "a = 3  # 提议分布的区间 [-a, a]\n",
    "def q(x):\n",
    "    return 1 / (2 * a) if -a <= x <= a else 0\n",
    "\n",
    "# 生成样本\n",
    "N = 10000\n",
    "samples = np.random.uniform(-a, a, N)\n",
    "\n",
    "# 计算权重\n",
    "weights = p(samples) / q(samples)\n",
    "\n",
    "# 归一化权重\n",
    "normalized_weights = weights / np.sum(weights)\n",
    "\n",
    "# 要估计的函数 f(x) = x^2\n",
    "f_samples = samples**2\n",
    "\n",
    "# 使用归一化权重估计期望值\n",
    "expectation_estimate = np.sum(f_samples * normalized_weights)\n",
    "\n",
    "print(f\"Estimated expectation (weighted importance sampling): {expectation_estimate}\")\n"
   ],
   "id": "ca3fcaf67ca3cae6",
   "outputs": [
    {
     "ename": "ValueError",
     "evalue": "The truth value of an array with more than one element is ambiguous. Use a.any() or a.all()",
     "output_type": "error",
     "traceback": [
      "\u001B[1;31m---------------------------------------------------------------------------\u001B[0m",
      "\u001B[1;31mValueError\u001B[0m                                Traceback (most recent call last)",
      "Cell \u001B[1;32mIn[2], line 17\u001B[0m\n\u001B[0;32m     14\u001B[0m samples \u001B[38;5;241m=\u001B[39m np\u001B[38;5;241m.\u001B[39mrandom\u001B[38;5;241m.\u001B[39muniform(\u001B[38;5;241m-\u001B[39ma, a, N)\n\u001B[0;32m     16\u001B[0m \u001B[38;5;66;03m# 计算权重\u001B[39;00m\n\u001B[1;32m---> 17\u001B[0m weights \u001B[38;5;241m=\u001B[39m p(samples) \u001B[38;5;241m/\u001B[39m \u001B[43mq\u001B[49m\u001B[43m(\u001B[49m\u001B[43msamples\u001B[49m\u001B[43m)\u001B[49m\n\u001B[0;32m     19\u001B[0m \u001B[38;5;66;03m# 归一化权重\u001B[39;00m\n\u001B[0;32m     20\u001B[0m normalized_weights \u001B[38;5;241m=\u001B[39m weights \u001B[38;5;241m/\u001B[39m np\u001B[38;5;241m.\u001B[39msum(weights)\n",
      "Cell \u001B[1;32mIn[2], line 10\u001B[0m, in \u001B[0;36mq\u001B[1;34m(x)\u001B[0m\n\u001B[0;32m      9\u001B[0m \u001B[38;5;28;01mdef\u001B[39;00m \u001B[38;5;21mq\u001B[39m(x):\n\u001B[1;32m---> 10\u001B[0m     \u001B[38;5;28;01mreturn\u001B[39;00m \u001B[38;5;241m1\u001B[39m \u001B[38;5;241m/\u001B[39m (\u001B[38;5;241m2\u001B[39m \u001B[38;5;241m*\u001B[39m a) \u001B[38;5;28;01mif\u001B[39;00m \u001B[38;5;241m-\u001B[39ma \u001B[38;5;241m<\u001B[39m\u001B[38;5;241m=\u001B[39m x \u001B[38;5;241m<\u001B[39m\u001B[38;5;241m=\u001B[39m a \u001B[38;5;28;01melse\u001B[39;00m \u001B[38;5;241m0\u001B[39m\n",
      "\u001B[1;31mValueError\u001B[0m: The truth value of an array with more than one element is ambiguous. Use a.any() or a.all()"
     ]
    }
   ],
   "execution_count": 2
  }
 ],
 "metadata": {
  "kernelspec": {
   "display_name": "Python 3",
   "language": "python",
   "name": "python3"
  },
  "language_info": {
   "codemirror_mode": {
    "name": "ipython",
    "version": 2
   },
   "file_extension": ".py",
   "mimetype": "text/x-python",
   "name": "python",
   "nbconvert_exporter": "python",
   "pygments_lexer": "ipython2",
   "version": "2.7.6"
  }
 },
 "nbformat": 4,
 "nbformat_minor": 5
}
