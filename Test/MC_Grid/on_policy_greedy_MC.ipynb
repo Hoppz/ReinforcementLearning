{
 "cells": [
  {
   "metadata": {},
   "cell_type": "markdown",
   "source": [
    "### (5,5) eps = 0.1 当最初的策略一直向左 ，且目的地在左边的时候\n",
    "\n",
    "---\n",
    "\n",
    "由于经验要一个完整的 episode 才会更新，但是走到右边的概率非常非常小，所以很难收敛"
   ],
   "id": "91d6621c397df4a2"
  },
  {
   "cell_type": "code",
   "id": "initial_id",
   "metadata": {
    "collapsed": true,
    "ExecuteTime": {
     "end_time": "2024-06-06T02:27:20.424716Z",
     "start_time": "2024-06-06T02:27:20.409691Z"
    }
   },
   "source": [
    "%matplotlib inline\n",
    "import sys\n",
    "from collections import defaultdict\n",
    "\n",
    "if \"../\" not in sys.path:\n",
    "    sys.path.append(\"../\")\n",
    "    \n",
    "import numpy as np\n",
    "from lib.envs.GridEnv import Env\n",
    "from lib.utils.draw import show_grid,show_policy,draw_line\n",
    "import matplotlib\n",
    "\n",
    "env = Env( (5, 5),p=0.4,seed=6,punish=-10)"
   ],
   "execution_count": 85,
   "outputs": []
  },
  {
   "metadata": {
    "ExecuteTime": {
     "end_time": "2024-06-06T02:27:20.440716Z",
     "start_time": "2024-06-06T02:27:20.425470Z"
    }
   },
   "cell_type": "code",
   "source": [
    "def get_epsilon_policy(Q,nA,num_episodes):\n",
    "    \n",
    "    # 逐渐递减的 eps\n",
    "    explore_frac = 0.1\n",
    "    epsilon = lambda i: 1 - 0.99 * min(1, i / (num_episodes * explore_frac))\n",
    "\n",
    "    def policy_fn(observation,i_episode):\n",
    "        # eps = epsilon(i_episode)\n",
    "        eps = 0.3\n",
    "        A = np.ones(nA) * eps / nA\n",
    "        best_action = np.argmax(Q[observation])\n",
    "        A[best_action] += (1 - eps)\n",
    "        return A\n",
    "    return policy_fn"
   ],
   "id": "41dc2464517b317a",
   "execution_count": 86,
   "outputs": []
  },
  {
   "metadata": {
    "ExecuteTime": {
     "end_time": "2024-06-06T02:27:20.456016Z",
     "start_time": "2024-06-06T02:27:20.440716Z"
    }
   },
   "cell_type": "code",
   "source": [
    "def on_policy_MC(env,num_episodes,gamma=1.0,epsilon=0.1):\n",
    "    \n",
    "    # param initial \n",
    "    Q = np.zeros( (env.observation_size,env.action_size) )\n",
    "    Q_cnt = np.zeros( (env.observation_size,env.action_size) )\n",
    "    policy = get_epsilon_policy(Q,env.action_size,num_episodes)\n",
    "    stats = defaultdict(lambda: [])\n",
    "    \n",
    "    # stats flag\n",
    "    last_cnt = 0\n",
    "    las_rewards = 0\n",
    "    \n",
    "    for i_episode in range(num_episodes):\n",
    "        if i_episode % 1000 == 0:\n",
    "            print(f\"\\rEpisode :{i_episode/num_episodes * 100:.2f}% steps: {last_cnt:5}, rewards: {las_rewards:5}\",end = \"\")\n",
    "            sys.stdout.flush()\n",
    "        \n",
    "        # env initial\n",
    "        last_cnt = 0\n",
    "        las_rewards =0\n",
    "        state = env.reset()\n",
    "        stack_state_action = []\n",
    "        stack_reward = []\n",
    "        \n",
    "        while True:\n",
    "            probs = policy(state,i_episode)\n",
    "            action = np.random.choice( range(len(probs)), p=probs )\n",
    "            next_state, reward, done = env.step(action)\n",
    "            # print(f\" state:{state},action:{action},reward:{reward},done:{done}\")\n",
    "            stack_state_action.append( (state,action) )\n",
    "            stack_reward.append(reward)\n",
    "            # update stats\n",
    "            last_cnt += 1\n",
    "            las_rewards += reward\n",
    "            \n",
    "            if done:\n",
    "                break\n",
    "            state = next_state\n",
    "        # append stats\n",
    "        stats['steps'].append(last_cnt)\n",
    "        stats['rewards'].append(las_rewards)\n",
    "        \n",
    "        # policy improvement\n",
    "        size = len(stack_state_action)\n",
    "        G = 0\n",
    "        for i in range(size-1,-1,-1):\n",
    "            state, action = stack_state_action[i]\n",
    "            \n",
    "            G = gamma * G + stack_reward[i]\n",
    "            if stack_state_action[i] not in stack_state_action[0:i]:\n",
    "                Q_cnt[state][action] += 1\n",
    "                Q[state][action] =  Q[state][action] + (1 / Q_cnt[state][action]) * ( G - Q[state][action])\n",
    "    return Q,stats\n",
    "    \n",
    "    "
   ],
   "id": "772a3cdec6c14c9a",
   "execution_count": 87,
   "outputs": []
  },
  {
   "metadata": {
    "ExecuteTime": {
     "end_time": "2024-06-06T02:27:21.448548Z",
     "start_time": "2024-06-06T02:27:20.456016Z"
    }
   },
   "cell_type": "code",
   "source": [
    "show_grid(env,env.grid)\n",
    "num_episodes = 300\n",
    "Q,stats = on_policy_MC(env,num_episodes=num_episodes,gamma=0.9)\n",
    "V = np.zeros( env.observation_size )\n",
    "policy = np.zeros_like(Q)\n",
    "for i in range(len(V)):\n",
    "    best_action = np.argmax(Q[i])\n",
    "    V[i] = Q[i][best_action]\n",
    "    policy[i][best_action] = 1\n",
    "show_policy(env,policy)\n",
    "draw_line(stats)\n"
   ],
   "id": "8510826439c2ccf1",
   "execution_count": 88,
   "outputs": []
  },
  {
   "metadata": {
    "ExecuteTime": {
     "end_time": "2024-06-06T02:27:21.559906Z",
     "start_time": "2024-06-06T02:27:21.449513Z"
    }
   },
   "cell_type": "code",
   "source": "show_grid(env,V)",
   "id": "f65df711d6f28024",
   "execution_count": 89,
   "outputs": []
  },
  {
   "metadata": {
    "ExecuteTime": {
     "end_time": "2024-06-06T02:27:21.575531Z",
     "start_time": "2024-06-06T02:27:21.559906Z"
    }
   },
   "cell_type": "code",
   "source": "",
   "id": "baa1daedf81f1f2a",
   "execution_count": 89,
   "outputs": []
  }
 ],
 "metadata": {
  "kernelspec": {
   "display_name": "Python 3",
   "language": "python",
   "name": "python3"
  },
  "language_info": {
   "codemirror_mode": {
    "name": "ipython",
    "version": 2
   },
   "file_extension": ".py",
   "mimetype": "text/x-python",
   "name": "python",
   "nbconvert_exporter": "python",
   "pygments_lexer": "ipython2",
   "version": "2.7.6"
  }
 },
 "nbformat": 4,
 "nbformat_minor": 5
}
