{
 "cells": [
  {
   "cell_type": "code",
   "id": "initial_id",
   "metadata": {
    "collapsed": true,
    "ExecuteTime": {
     "end_time": "2024-06-04T05:52:45.213369Z",
     "start_time": "2024-06-04T05:52:44.931081Z"
    }
   },
   "source": [
    "%matplotlib inline\n",
    "import sys\n",
    "from collections import defaultdict\n",
    "\n",
    "if \"../\" not in sys.path:\n",
    "    sys.path.append(\"../\")\n",
    "    \n",
    "import numpy as np\n",
    "from lib.envs.blackjack import BlackjackEnv\n",
    "from lib.utils.draw import show_policy_black,show_value_function\n",
    "import matplotlib\n",
    "\n",
    "\n",
    "env = BlackjackEnv()"
   ],
   "execution_count": 1,
   "outputs": []
  },
  {
   "metadata": {
    "ExecuteTime": {
     "end_time": "2024-06-04T05:52:45.229297Z",
     "start_time": "2024-06-04T05:52:45.214211Z"
    }
   },
   "cell_type": "code",
   "source": [
    "def get_policy(Q,nA):\n",
    "    \"\"\"\n",
    "        \n",
    "    \"\"\"\n",
    "    def policy_fn(observation):\n",
    "        A = np.zeros(nA, dtype=float)\n",
    "        best_action = np.argmax(Q[observation])\n",
    "        A[best_action] = 1.0\n",
    "        return A\n",
    "    return policy_fn"
   ],
   "id": "48241394da56fd02",
   "execution_count": 2,
   "outputs": []
  },
  {
   "metadata": {
    "ExecuteTime": {
     "end_time": "2024-06-04T05:52:45.245316Z",
     "start_time": "2024-06-04T05:52:45.229803Z"
    }
   },
   "cell_type": "code",
   "source": [
    "def mc_exploring_starts(env,num_episodes,gamma=1.0):\n",
    "    returns_num = defaultdict(float)\n",
    "    returns_count = defaultdict(float)\n",
    "    \n",
    "    # 设置 map, value 的默认值为 [0,0]\n",
    "    Q = defaultdict(lambda: np.zeros(env.nA))\n",
    "    \n",
    "    policy = get_policy(Q,env.nA)\n",
    "    \n",
    "    for i_episode in range(num_episodes):\n",
    "        if i_episode % 1000 == 0:\n",
    "            # \\r 实现动态更新\n",
    "            print(f\"\\rEpisode :{i_episode/num_episodes * 100:.2f}%\",end = \"\")\n",
    "            sys.stdout.flush()\n",
    "            \n",
    "        state = env.reset()\n",
    "        ac = np.random.randint(0,2) # 第一次随机生成行为\n",
    "        \n",
    "        first = True # 第一次用遍历的行为\n",
    "        stack_state_action = []\n",
    "        stack_reward = []   \n",
    "        \n",
    "        # 生成一个 episode\n",
    "        while True:\n",
    "            if first:                   # 第一个 action 用我们自己生成的\n",
    "                first = False\n",
    "                action = ac\n",
    "            else:\n",
    "                probs = policy(state)   # 之后的 action 用 policy 中的\n",
    "                action = np.random.choice( np.arange(len(probs)),p = probs )\n",
    "            # \n",
    "            next_state, reward, done, _ = env.step(action)\n",
    "            stack_state_action.append( (state,action) )\n",
    "            stack_reward.append(reward)\n",
    "            if done:\n",
    "                break\n",
    "            state = next_state\n",
    "        # 回溯 episode\n",
    "        size = len(stack_reward)\n",
    "        G = 0\n",
    "        for i in range(size-1,-1,-1):\n",
    "            state, action = stack_state_action[i]\n",
    "            state = tuple(state)\n",
    "            key = (state, action)\n",
    "            \n",
    "            G = gamma * G + stack_reward[i]\n",
    "            if stack_state_action[i] not in stack_state_action[0:i]:\n",
    "                returns_num[key] += G\n",
    "                returns_count[key] += 1.0\n",
    "                Q[state][action] = returns_num[key] / returns_count[key]\n",
    "    return Q,policy"
   ],
   "id": "591ad8208f0d46b7",
   "execution_count": 3,
   "outputs": []
  },
  {
   "metadata": {
    "ExecuteTime": {
     "end_time": "2024-06-04T05:53:03.482365Z",
     "start_time": "2024-06-04T05:52:45.245316Z"
    }
   },
   "cell_type": "code",
   "source": "Q, policy = mc_exploring_starts(env,num_episodes=500000,gamma=1.0)",
   "id": "3329e002ab38fd00",
   "execution_count": 4,
   "outputs": []
  },
  {
   "metadata": {
    "ExecuteTime": {
     "end_time": "2024-06-04T05:53:03.735503Z",
     "start_time": "2024-06-04T05:53:03.483463Z"
    }
   },
   "cell_type": "code",
   "source": [
    "V = defaultdict(float)\n",
    "for state, actions in Q.items():\n",
    "    action_value = np.max(actions)\n",
    "    V[state] = action_value\n",
    "show_value_function(V, title=\"Optimal Value Function\")"
   ],
   "id": "a33030ec91472b4",
   "execution_count": 5,
   "outputs": []
  },
  {
   "metadata": {
    "ExecuteTime": {
     "end_time": "2024-06-04T05:53:29.733802Z",
     "start_time": "2024-06-04T05:53:29.643329Z"
    }
   },
   "cell_type": "code",
   "source": [
    "\n",
    "show_policy_black(policy,V,ace = False)"
   ],
   "id": "f9f2095cc0e9f00e",
   "execution_count": 6,
   "outputs": []
  }
 ],
 "metadata": {
  "kernelspec": {
   "display_name": "Python 3",
   "language": "python",
   "name": "python3"
  },
  "language_info": {
   "codemirror_mode": {
    "name": "ipython",
    "version": 2
   },
   "file_extension": ".py",
   "mimetype": "text/x-python",
   "name": "python",
   "nbconvert_exporter": "python",
   "pygments_lexer": "ipython2",
   "version": "2.7.6"
  }
 },
 "nbformat": 4,
 "nbformat_minor": 5
}
