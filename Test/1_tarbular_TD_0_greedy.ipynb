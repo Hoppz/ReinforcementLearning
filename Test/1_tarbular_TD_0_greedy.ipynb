{
 "cells": [
  {
   "cell_type": "code",
   "id": "initial_id",
   "metadata": {
    "collapsed": true,
    "ExecuteTime": {
     "end_time": "2024-06-04T08:36:20.878082Z",
     "start_time": "2024-06-04T08:36:20.579977Z"
    }
   },
   "source": [
    "%matplotlib inline\n",
    "import sys\n",
    "from collections import defaultdict\n",
    "\n",
    "if \"../\" not in sys.path:\n",
    "    sys.path.append(\"../\")\n",
    "    \n",
    "import numpy as np\n",
    "from lib.envs.blackjack import BlackjackEnv\n",
    "from lib.utils.draw import show_value_function,show_policy_black\n",
    "import matplotlib\n",
    "\n",
    "\n",
    "env = BlackjackEnv()"
   ],
   "execution_count": 1,
   "outputs": []
  },
  {
   "metadata": {
    "ExecuteTime": {
     "end_time": "2024-06-04T08:36:20.893644Z",
     "start_time": "2024-06-04T08:36:20.878082Z"
    }
   },
   "cell_type": "code",
   "source": [
    "def get_epsilon_policy(Q,nA,epsilon):\n",
    "    \n",
    "    def policy_fn(observation):\n",
    "        A = np.ones(nA) * epsilon / nA\n",
    "        best_action = np.argmax(Q[observation])\n",
    "        A[best_action] += (1 - epsilon)\n",
    "        return A\n",
    "    return policy_fn"
   ],
   "id": "363d74e54444918a",
   "execution_count": 2,
   "outputs": []
  },
  {
   "metadata": {
    "ExecuteTime": {
     "end_time": "2024-06-04T08:36:20.909776Z",
     "start_time": "2024-06-04T08:36:20.895333Z"
    }
   },
   "cell_type": "code",
   "source": [
    "def get_action(policy,state):\n",
    "    probs = policy(state)\n",
    "    action = np.random.choice(range(len(probs)), p=probs)\n",
    "    return action"
   ],
   "id": "cbff0204d7cb45cd",
   "execution_count": 3,
   "outputs": []
  },
  {
   "metadata": {
    "ExecuteTime": {
     "end_time": "2024-06-04T08:36:20.925839Z",
     "start_time": "2024-06-04T08:36:20.909776Z"
    }
   },
   "cell_type": "code",
   "source": [
    "def TD0_prediction(env,num_episodes,gamma=0.9,alpha =0.1):\n",
    "    \n",
    "    Q = defaultdict(lambda: np.zeros(env.action_space.n))\n",
    "    Q_count = defaultdict(lambda: np.zeros(env.action_space.n))\n",
    "    \n",
    "    policy = get_epsilon_policy(Q,env.nA,0.1)\n",
    "    \n",
    "    for i_episode in range(num_episodes):\n",
    "        if i_episode % 1000 == 0:\n",
    "            # \\r 实现动态更新\n",
    "            print(f\"\\rEpisode :{i_episode}/{num_episodes}\",end = \"\")\n",
    "            sys.stdout.flush()\n",
    "        \n",
    "        state = env.reset()\n",
    "        action = get_action(policy,state)\n",
    "        while True:\n",
    "            \n",
    "            next_state, reward, done, _ = env.step(action)\n",
    "            next_action = get_action(policy,next_state)\n",
    "            \n",
    "            # key_s = tuple(state)\n",
    "            # key_n_s = tuple(next_state)\n",
    "            key_s = state\n",
    "            key_n_s = next_state\n",
    "            Q_count[key_s][action] += 1.0\n",
    "            Q[key_s][action] = Q[key_s][action] + (1 / Q_count[key_s][action]) * ( reward + gamma * Q[key_n_s][next_action] - Q[key_s][action] )\n",
    "            \n",
    "            if done:\n",
    "                break\n",
    "            \n",
    "            state, action = next_state, next_action\n",
    "    return Q,policy"
   ],
   "id": "e2a70866b64900ce",
   "execution_count": 4,
   "outputs": []
  },
  {
   "metadata": {
    "ExecuteTime": {
     "end_time": "2024-06-04T08:37:27.961932Z",
     "start_time": "2024-06-04T08:36:20.925839Z"
    }
   },
   "cell_type": "code",
   "source": [
    "Q,policy = TD0_prediction(env, num_episodes=200000)\n",
    "V = defaultdict(float)\n",
    "for state, actions in Q.items():\n",
    "    action_value = np.max(actions)\n",
    "    V[state] = action_value\n",
    "show_value_function(V, title=\"10,000 Steps\")"
   ],
   "id": "903a60bffa226379",
   "execution_count": 5,
   "outputs": []
  },
  {
   "metadata": {
    "ExecuteTime": {
     "end_time": "2024-06-04T08:37:28.072435Z",
     "start_time": "2024-06-04T08:37:27.961932Z"
    }
   },
   "cell_type": "code",
   "source": [
    "\n",
    "show_policy_black(policy,V)"
   ],
   "id": "3f6f0412dc734b9c",
   "execution_count": 6,
   "outputs": []
  },
  {
   "metadata": {
    "ExecuteTime": {
     "end_time": "2024-06-04T08:37:28.088526Z",
     "start_time": "2024-06-04T08:37:28.072435Z"
    }
   },
   "cell_type": "code",
   "source": "",
   "id": "78c4bcafc15472cc",
   "execution_count": 6,
   "outputs": []
  }
 ],
 "metadata": {
  "kernelspec": {
   "display_name": "Python 3",
   "language": "python",
   "name": "python3"
  },
  "language_info": {
   "codemirror_mode": {
    "name": "ipython",
    "version": 2
   },
   "file_extension": ".py",
   "mimetype": "text/x-python",
   "name": "python",
   "nbconvert_exporter": "python",
   "pygments_lexer": "ipython2",
   "version": "2.7.6"
  }
 },
 "nbformat": 4,
 "nbformat_minor": 5
}
